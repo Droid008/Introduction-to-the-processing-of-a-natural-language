{
  "cells": [
    {
      "cell_type": "markdown",
      "metadata": {
        "id": "view-in-github",
        "colab_type": "text"
      },
      "source": [
        "<a href=\"https://colab.research.google.com/github/Droid008/Introduction-to-the-processing-of-a-natural-language/blob/Lesson-%2310/HW_10_1.ipynb\" target=\"_parent\"><img src=\"https://colab.research.google.com/assets/colab-badge.svg\" alt=\"Open In Colab\"/></a>"
      ]
    },
    {
      "cell_type": "markdown",
      "metadata": {
        "id": "J0Qjg6vuaHNt"
      },
      "source": [
        "# Без внимания"
      ]
    },
    {
      "cell_type": "code",
      "execution_count": 1,
      "metadata": {
        "id": "tnxXKDjq3jEL"
      },
      "outputs": [],
      "source": [
        "import tensorflow as tf\n",
        "\n",
        "import matplotlib.pyplot as plt\n",
        "import matplotlib.ticker as ticker\n",
        "from sklearn.model_selection import train_test_split\n",
        "\n",
        "import unicodedata\n",
        "import re\n",
        "import numpy as np\n",
        "import os\n",
        "import io\n",
        "import time"
      ]
    },
    {
      "cell_type": "code",
      "execution_count": 2,
      "metadata": {
        "colab": {
          "base_uri": "https://localhost:8080/"
        },
        "id": "CNvjhDyAKk3U",
        "outputId": "ee586fb3-8328-4ac8-82e0-11bddb1970f6"
      },
      "outputs": [
        {
          "output_type": "stream",
          "name": "stdout",
          "text": [
            "--2022-06-30 13:13:04--  http://www.manythings.org/anki/rus-eng.zip\n",
            "Resolving www.manythings.org (www.manythings.org)... 173.254.30.110\n",
            "Connecting to www.manythings.org (www.manythings.org)|173.254.30.110|:80... connected.\n",
            "HTTP request sent, awaiting response... 200 OK\n",
            "Length: 14819554 (14M) [application/zip]\n",
            "Saving to: ‘rus-eng.zip’\n",
            "\n",
            "rus-eng.zip         100%[===================>]  14.13M  9.34MB/s    in 1.5s    \n",
            "\n",
            "2022-06-30 13:13:06 (9.34 MB/s) - ‘rus-eng.zip’ saved [14819554/14819554]\n",
            "\n"
          ]
        }
      ],
      "source": [
        "!wget http://www.manythings.org/anki/rus-eng.zip"
      ]
    },
    {
      "cell_type": "code",
      "execution_count": 3,
      "metadata": {
        "colab": {
          "base_uri": "https://localhost:8080/"
        },
        "id": "83bg17Lr-7XK",
        "outputId": "b2439b6e-2973-42ca-ce27-69584f958688"
      },
      "outputs": [
        {
          "output_type": "stream",
          "name": "stdout",
          "text": [
            "Archive:  rus-eng.zip\n",
            "  inflating: rus-eng/rus.txt         \n",
            "  inflating: rus-eng/_about.txt      \n"
          ]
        }
      ],
      "source": [
        "!mkdir rus-eng\n",
        "!unzip rus-eng.zip -d rus-eng/"
      ]
    },
    {
      "cell_type": "code",
      "execution_count": 4,
      "metadata": {
        "colab": {
          "base_uri": "https://localhost:8080/"
        },
        "id": "7o5L92efMMhf",
        "outputId": "ffbc8490-c10b-408b-d5a2-430533a4a397"
      },
      "outputs": [
        {
          "output_type": "stream",
          "name": "stdout",
          "text": [
            "total 71M\n",
            "drwxr-xr-x 2 root root 4.0K Jun 30 13:13 .\n",
            "drwxr-xr-x 1 root root 4.0K Jun 30 13:13 ..\n",
            "-rw-r--r-- 1 root root 1.5K May  2 01:29 _about.txt\n",
            "-rw-r--r-- 1 root root  71M May  2 01:29 rus.txt\n"
          ]
        }
      ],
      "source": [
        "!ls /content/rus-eng/ -lah"
      ]
    },
    {
      "cell_type": "code",
      "execution_count": 5,
      "metadata": {
        "id": "kRVATYOgJs1b"
      },
      "outputs": [],
      "source": [
        "# Download the file\n",
        "path_to_file = \"/content/rus-eng/rus.txt\""
      ]
    },
    {
      "cell_type": "code",
      "execution_count": 6,
      "metadata": {
        "id": "rd0jw-eC3jEh"
      },
      "outputs": [],
      "source": [
        "def preprocess_sentence(w):\n",
        "  w = w.lower().strip()\n",
        "\n",
        "  # creating a space between a word and the punctuation following it\n",
        "  # eg: \"he is a boy.\" => \"he is a boy .\"\n",
        "  # Reference:- https://stackoverflow.com/questions/3645931/python-padding-punctuation-with-white-spaces-keeping-punctuation\n",
        "  w = re.sub(r\"([?.!,])\", r\" \\1 \", w)\n",
        "  w = re.sub(r'[\" \"]+', \" \", w)\n",
        "\n",
        "  # replacing everything with space except (a-z, A-Z, \".\", \"?\", \"!\", \",\")\n",
        "  w = re.sub(r\"[^a-zA-Zа-яА-Я?.!,']+\", \" \", w)\n",
        "\n",
        "  w = w.strip()\n",
        "\n",
        "  # adding a start and an end token to the sentence\n",
        "  # so that the model know when to start and stop predicting.\n",
        "  w = '<start> ' + w + ' <end>'\n",
        "  return w"
      ]
    },
    {
      "cell_type": "code",
      "execution_count": 7,
      "metadata": {
        "colab": {
          "base_uri": "https://localhost:8080/",
          "height": 36
        },
        "id": "yV9lZXQXNbnH",
        "outputId": "2af962fe-967b-43c5-8467-cc6eed3e1636"
      },
      "outputs": [
        {
          "output_type": "execute_result",
          "data": {
            "text/plain": [
              "\"<start> i can't go . <end>\""
            ],
            "application/vnd.google.colaboratory.intrinsic+json": {
              "type": "string"
            }
          },
          "metadata": {},
          "execution_count": 7
        }
      ],
      "source": [
        "preprocess_sentence(\"I can't go.\")"
      ]
    },
    {
      "cell_type": "code",
      "execution_count": 8,
      "metadata": {
        "id": "OHn4Dct23jEm"
      },
      "outputs": [],
      "source": [
        "# 1. Remove the accents\n",
        "# 2. Clean the sentences\n",
        "# 3. Return word pairs in the format: [ENG, RUS]\n",
        "def create_dataset(path, num_examples):\n",
        "  lines = io.open(path, encoding='UTF-8').read().strip().split('\\n')\n",
        "\n",
        "  word_pairs = [[preprocess_sentence(w) for w in l.split('\\t')[:2]]  for l in lines[:num_examples]]\n",
        "\n",
        "  return zip(*word_pairs)"
      ]
    },
    {
      "cell_type": "code",
      "execution_count": 9,
      "metadata": {
        "colab": {
          "base_uri": "https://localhost:8080/"
        },
        "id": "cTbSbBz55QtF",
        "outputId": "bae5506b-d930-4580-e8be-24a91ebc997f"
      },
      "outputs": [
        {
          "output_type": "stream",
          "name": "stdout",
          "text": [
            "<start> go . <end>\n",
            "<start> марш ! <end>\n"
          ]
        }
      ],
      "source": [
        "en, ru = create_dataset(path_to_file, None)\n",
        "print(en[0])\n",
        "print(ru[0])"
      ]
    },
    {
      "cell_type": "code",
      "execution_count": 10,
      "metadata": {
        "id": "bIOn8RCNDJXG"
      },
      "outputs": [],
      "source": [
        "def tokenize(lang):\n",
        "  lang_tokenizer = tf.keras.preprocessing.text.Tokenizer(\n",
        "      filters='')\n",
        "  lang_tokenizer.fit_on_texts(lang)\n",
        "\n",
        "  tensor = lang_tokenizer.texts_to_sequences(lang)\n",
        "\n",
        "  tensor = tf.keras.preprocessing.sequence.pad_sequences(tensor,\n",
        "                                                         padding='post')\n",
        "\n",
        "  return tensor, lang_tokenizer"
      ]
    },
    {
      "cell_type": "code",
      "execution_count": 11,
      "metadata": {
        "id": "eAY9k49G3jE_"
      },
      "outputs": [],
      "source": [
        "def load_dataset(path, num_examples=None):\n",
        "  # creating cleaned input, output pairs\n",
        "  targ_lang, inp_lang = create_dataset(path, num_examples)\n",
        "\n",
        "  input_tensor, inp_lang_tokenizer = tokenize(inp_lang)\n",
        "  target_tensor, targ_lang_tokenizer = tokenize(targ_lang)\n",
        "\n",
        "  return input_tensor, target_tensor, inp_lang_tokenizer, targ_lang_tokenizer"
      ]
    },
    {
      "cell_type": "code",
      "execution_count": 12,
      "metadata": {
        "colab": {
          "base_uri": "https://localhost:8080/"
        },
        "id": "C8j9g9AnIeZV",
        "outputId": "62857785-1a26-4e21-d0c2-6799f2eb49f3"
      },
      "outputs": [
        {
          "output_type": "execute_result",
          "data": {
            "text/plain": [
              "(444587, 444587)"
            ]
          },
          "metadata": {},
          "execution_count": 12
        }
      ],
      "source": [
        "len(en), len(ru)"
      ]
    },
    {
      "cell_type": "code",
      "execution_count": 13,
      "metadata": {
        "id": "cnxC7q-j3jFD"
      },
      "outputs": [],
      "source": [
        "# Try experimenting with the size of that dataset\n",
        "num_examples = 100000\n",
        "input_tensor, target_tensor, inp_lang, targ_lang = load_dataset(path_to_file, num_examples)\n",
        "\n",
        "# Calculate max_length of the target tensors\n",
        "max_length_targ, max_length_inp = target_tensor.shape[1], input_tensor.shape[1]"
      ]
    },
    {
      "cell_type": "code",
      "execution_count": 14,
      "metadata": {
        "colab": {
          "base_uri": "https://localhost:8080/"
        },
        "id": "4QILQkOs3jFG",
        "outputId": "e9d1b428-98cc-47e8-99a7-b7e344e8ba70"
      },
      "outputs": [
        {
          "output_type": "stream",
          "name": "stdout",
          "text": [
            "80000 80000 20000 20000\n"
          ]
        }
      ],
      "source": [
        "# Creating training and validation sets using an 80-20 split\n",
        "input_tensor_train, input_tensor_val, target_tensor_train, target_tensor_val = train_test_split(input_tensor, target_tensor, test_size=0.2)\n",
        "\n",
        "# Show length\n",
        "print(len(input_tensor_train), len(target_tensor_train), len(input_tensor_val), len(target_tensor_val))"
      ]
    },
    {
      "cell_type": "code",
      "execution_count": 15,
      "metadata": {
        "id": "lJPmLZGMeD5q"
      },
      "outputs": [],
      "source": [
        "def convert(lang, tensor):\n",
        "  for t in tensor:\n",
        "    if t!=0:\n",
        "      print (\"%d ----> %s\" % (t, lang.index_word[t]))"
      ]
    },
    {
      "cell_type": "code",
      "execution_count": 16,
      "metadata": {
        "colab": {
          "base_uri": "https://localhost:8080/"
        },
        "id": "VXukARTDd7MT",
        "outputId": "f8dd72c1-a14d-4a84-e941-5e40eef27ce2"
      },
      "outputs": [
        {
          "output_type": "stream",
          "name": "stdout",
          "text": [
            "Input Language; index to word mapping\n",
            "1 ----> <start>\n",
            "4 ----> я\n",
            "29 ----> очень\n",
            "413 ----> скучаю\n",
            "49 ----> по\n",
            "3964 ----> бостону\n",
            "3 ----> .\n",
            "2 ----> <end>\n",
            "\n",
            "Target Language; index to word mapping\n",
            "1 ----> <start>\n",
            "4 ----> i\n",
            "121 ----> really\n",
            "186 ----> miss\n",
            "227 ----> boston\n",
            "3 ----> .\n",
            "2 ----> <end>\n"
          ]
        }
      ],
      "source": [
        "print (\"Input Language; index to word mapping\")\n",
        "convert(inp_lang, input_tensor_train[0])\n",
        "print ()\n",
        "print (\"Target Language; index to word mapping\")\n",
        "convert(targ_lang, target_tensor_train[0])"
      ]
    },
    {
      "cell_type": "code",
      "execution_count": 17,
      "metadata": {
        "id": "TqHsArVZ3jFS"
      },
      "outputs": [],
      "source": [
        "BUFFER_SIZE = len(input_tensor_train)\n",
        "BATCH_SIZE = 64\n",
        "steps_per_epoch = len(input_tensor_train)//BATCH_SIZE\n",
        "embedding_dim = 300\n",
        "units = 1024\n",
        "vocab_inp_size = len(inp_lang.word_index)+1\n",
        "vocab_tar_size = len(targ_lang.word_index)+1\n",
        "\n",
        "dataset = tf.data.Dataset.from_tensor_slices((input_tensor_train, target_tensor_train)).shuffle(BUFFER_SIZE)\n",
        "dataset = dataset.batch(BATCH_SIZE, drop_remainder=True)"
      ]
    },
    {
      "cell_type": "code",
      "execution_count": 18,
      "metadata": {
        "colab": {
          "base_uri": "https://localhost:8080/"
        },
        "id": "qc6-NK1GtWQt",
        "outputId": "8c58c287-dc45-4d11-894c-9a93ba6e603f"
      },
      "outputs": [
        {
          "output_type": "execute_result",
          "data": {
            "text/plain": [
              "(TensorShape([64, 15]), TensorShape([64, 11]))"
            ]
          },
          "metadata": {},
          "execution_count": 18
        }
      ],
      "source": [
        "example_input_batch, example_target_batch = next(iter(dataset))\n",
        "example_input_batch.shape, example_target_batch.shape"
      ]
    },
    {
      "cell_type": "code",
      "execution_count": 19,
      "metadata": {
        "id": "nZ2rI24i3jFg"
      },
      "outputs": [],
      "source": [
        "class Encoder(tf.keras.Model):\n",
        "  def __init__(self, vocab_size, embedding_dim, enc_units, batch_sz):\n",
        "    super(Encoder, self).__init__()\n",
        "    self.batch_sz = batch_sz\n",
        "    self.enc_units = enc_units\n",
        "    self.embedding = tf.keras.layers.Embedding(vocab_size, embedding_dim)\n",
        "    self.gru = tf.keras.layers.GRU(self.enc_units,\n",
        "                                   return_sequences=False,\n",
        "                                   return_state=True,\n",
        "                                   recurrent_initializer='glorot_uniform')\n",
        "    \n",
        "\n",
        "  def call(self, x, hidden):\n",
        "    x = self.embedding(x)\n",
        "    output, state = self.gru(x, initial_state = hidden)\n",
        "    return state\n",
        "\n",
        "  def initialize_hidden_state(self):\n",
        "    return tf.zeros((self.batch_sz, self.enc_units))"
      ]
    },
    {
      "cell_type": "code",
      "execution_count": 20,
      "metadata": {
        "colab": {
          "base_uri": "https://localhost:8080/"
        },
        "id": "60gSVh05Jl6l",
        "outputId": "e9cfad00-7679-422f-f48b-e023a8923167"
      },
      "outputs": [
        {
          "output_type": "stream",
          "name": "stdout",
          "text": [
            "Encoder Hidden state shape: (batch size, units) (64, 1024)\n"
          ]
        }
      ],
      "source": [
        "encoder = Encoder(vocab_inp_size, embedding_dim, units, BATCH_SIZE)\n",
        "\n",
        "# sample input\n",
        "sample_hidden = encoder.initialize_hidden_state()\n",
        "sample_hidden = encoder(example_input_batch, sample_hidden)\n",
        "# print ('Encoder output shape: (batch size, sequence length, units) {}'.format(sample_output.shape))\n",
        "print ('Encoder Hidden state shape: (batch size, units) {}'.format(sample_hidden.shape))"
      ]
    },
    {
      "cell_type": "code",
      "execution_count": 21,
      "metadata": {
        "id": "yJ_B3mhW3jFk"
      },
      "outputs": [],
      "source": [
        "class Decoder(tf.keras.Model):\n",
        "  def __init__(self, vocab_size, embedding_dim, dec_units, batch_sz):\n",
        "    super(Decoder, self).__init__()\n",
        "    self.batch_sz = batch_sz\n",
        "    self.dec_units = dec_units\n",
        "    self.embedding = tf.keras.layers.Embedding(vocab_size, embedding_dim)\n",
        "    self.gru = tf.keras.layers.GRU(self.dec_units,\n",
        "                                   return_sequences=True,\n",
        "                                   return_state=True,\n",
        "                                   recurrent_initializer='glorot_uniform')\n",
        "    self.fc = tf.keras.layers.Dense(vocab_size)\n",
        "\n",
        "  def call(self, x, hidden):\n",
        "    # enc_output shape == (batch_size, max_length, hidden_size)\n",
        "\n",
        "    # x shape after passing through embedding == (batch_size, 1, embedding_dim)\n",
        "    x = self.embedding(x)\n",
        "\n",
        "    # x shape after concatenation == (batch_size, 1, embedding_dim + hidden_size)\n",
        "\n",
        "    # passing the concatenated vector to the GRU\n",
        "    output, state = self.gru(x, initial_state=hidden)\n",
        "\n",
        "    # output shape == (batch_size * 1, hidden_size)\n",
        "    output = tf.reshape(output, (-1, output.shape[2]))\n",
        "\n",
        "    # output shape == (batch_size, vocab)\n",
        "    # fc - fully connected слой\n",
        "    x = self.fc(output)\n",
        "\n",
        "    return x, state"
      ]
    },
    {
      "cell_type": "code",
      "execution_count": 22,
      "metadata": {
        "id": "P5UY8wko3jFp"
      },
      "outputs": [],
      "source": [
        "decoder = Decoder(vocab_tar_size, embedding_dim, units, BATCH_SIZE)\n",
        "\n",
        "decoder_sample_x, decoder_sample_h = decoder(tf.random.uniform((BATCH_SIZE, 1)),\n",
        "                                      sample_hidden)\n",
        "\n"
      ]
    },
    {
      "cell_type": "code",
      "execution_count": 23,
      "metadata": {
        "colab": {
          "base_uri": "https://localhost:8080/"
        },
        "id": "XKcypC0AGeLR",
        "outputId": "b31fbe48-e5d7-4df7-c710-05d1dedb3bc0"
      },
      "outputs": [
        {
          "output_type": "execute_result",
          "data": {
            "text/plain": [
              "TensorShape([64, 7334])"
            ]
          },
          "metadata": {},
          "execution_count": 23
        }
      ],
      "source": [
        "decoder_sample_x.shape"
      ]
    },
    {
      "cell_type": "code",
      "execution_count": 24,
      "metadata": {
        "colab": {
          "base_uri": "https://localhost:8080/"
        },
        "id": "6y0HF-zMF_vp",
        "outputId": "c5cc5250-6c27-4bff-8ad4-ab408d1938e0"
      },
      "outputs": [
        {
          "output_type": "execute_result",
          "data": {
            "text/plain": [
              "TensorShape([64, 1024])"
            ]
          },
          "metadata": {},
          "execution_count": 24
        }
      ],
      "source": [
        "decoder_sample_h.shape"
      ]
    },
    {
      "cell_type": "code",
      "execution_count": 25,
      "metadata": {
        "id": "WmTHr5iV3jFr"
      },
      "outputs": [],
      "source": [
        "optimizer = tf.keras.optimizers.Adam()\n",
        "\n",
        "loss_object = tf.keras.losses.SparseCategoricalCrossentropy(\n",
        "    from_logits=True, reduction='none')\n",
        "\n",
        "# это маскированный лосс. Мы не хотим чтобы паддиноговые нулевые токены учитывались в лоссе\n",
        "# поэтому мы получаем падинговые элементы (0) - маска\n",
        "# и зануляем там лосс\n",
        "def loss_function(real, pred):\n",
        "  mask = tf.math.logical_not(tf.math.equal(real, 0))\n",
        "  loss_ = loss_object(real, pred)\n",
        "\n",
        "  mask = tf.cast(mask, dtype=loss_.dtype)\n",
        "  loss_ *= mask\n",
        "\n",
        "  return tf.reduce_mean(loss_)"
      ]
    },
    {
      "cell_type": "code",
      "execution_count": 26,
      "metadata": {
        "id": "Zj8bXQTgNwrF"
      },
      "outputs": [],
      "source": [
        "checkpoint_dir = './training_nmt_checkpoints'\n",
        "\n",
        "checkpoint_prefix = os.path.join(checkpoint_dir, \"ckpt\")\n",
        "\n",
        "checkpoint = tf.train.Checkpoint(optimizer=optimizer,\n",
        "                                 encoder=encoder,\n",
        "                                 decoder=decoder)"
      ]
    },
    {
      "cell_type": "code",
      "execution_count": 27,
      "metadata": {
        "id": "sC9ArXSsVfqn"
      },
      "outputs": [],
      "source": [
        "# функция для обучения модели\n",
        "@tf.function\n",
        "def train_step(inp, targ, enc_hidden):\n",
        "    # inp - входная последовательность (русский)\n",
        "    # target - английский\n",
        "    # enc_hidden - вектор скрытого состояния энкодера\n",
        "    loss = 0\n",
        "    \n",
        "    # берём градиенты\n",
        "    with tf.GradientTape() as tape:\n",
        "        # передаём в энкодер входную последовательность и скрытое состояние\n",
        "        # получаем выход скрытого состояния\n",
        "        enc_hidden = encoder(inp, enc_hidden)\n",
        "        \n",
        "        # присваиваем для инициализации ветора скрытого состояния в декодере\n",
        "        dec_hidden = enc_hidden\n",
        "        # добавляем тег старта для начала перевода, берём его индекс, переводим в тензор\n",
        "        dec_input = tf.expand_dims([targ_lang.word_index['<start>']] * BATCH_SIZE, 1)\n",
        "\n",
        "        # Teacher forcing - feeding the target as the next input\n",
        "        # идём по таргету, по тому тексту на который хотим натренировать перевод\n",
        "        # начинаем не с нулевого токена, потому что первым стоит тег <start>\n",
        "        for t in range(1, targ.shape[1]):\n",
        "            # passing enc_output to the decoder\n",
        "            # мы не хотим затачиваться на предикт, прокидывая градиент будем улучшать предикт\n",
        "            predictions, dec_hidden = decoder(dec_input, dec_hidden)\n",
        "            # вычисляем лосс-функцию\n",
        "            loss += loss_function(targ[:, t], predictions)\n",
        "\n",
        "            # using teacher forcing\n",
        "            # записываем текущий токен (таргет) на вход декодера - получается смещение\n",
        "            dec_input = tf.expand_dims(targ[:, t], 1)\n",
        "\n",
        "        batch_loss = (loss / int(targ.shape[1]))\n",
        "        # формируем все переменные по которым будет браться градиент\n",
        "        variables = encoder.trainable_variables + decoder.trainable_variables\n",
        "        # берём градиент и применяем его к лосс-функции\n",
        "        gradients = tape.gradient(loss, variables)\n",
        "\n",
        "        optimizer.apply_gradients(zip(gradients, variables))\n",
        "    # возвращаем батч-лосс\n",
        "    return batch_loss"
      ]
    },
    {
      "cell_type": "code",
      "execution_count": 28,
      "metadata": {
        "colab": {
          "base_uri": "https://localhost:8080/"
        },
        "id": "ddefjBMa3jF0",
        "outputId": "cda3cd7d-21cd-4f53-eca9-f355d3df3a9f"
      },
      "outputs": [
        {
          "output_type": "stream",
          "name": "stdout",
          "text": [
            "Epoch 1 Batch 0 Loss 4.6142\n",
            "Epoch 1 Batch 100 Loss 2.0364\n",
            "Epoch 1 Batch 200 Loss 1.8058\n",
            "Epoch 1 Batch 300 Loss 1.6463\n",
            "Epoch 1 Batch 400 Loss 1.5858\n",
            "Epoch 1 Batch 500 Loss 1.4452\n",
            "Epoch 1 Batch 600 Loss 1.3787\n",
            "Epoch 1 Batch 700 Loss 1.1564\n",
            "Epoch 1 Batch 800 Loss 1.1336\n",
            "Epoch 1 Batch 900 Loss 1.1226\n",
            "Epoch 1 Batch 1000 Loss 1.0366\n",
            "Epoch 1 Batch 1100 Loss 0.9959\n",
            "Epoch 1 Batch 1200 Loss 0.8692\n",
            "Epoch 1 Loss 1.4029\n",
            "Time taken for 1 epoch 67.51611757278442 sec\n",
            "\n",
            "Epoch 2 Batch 0 Loss 0.8176\n",
            "Epoch 2 Batch 100 Loss 0.8027\n",
            "Epoch 2 Batch 200 Loss 0.7148\n",
            "Epoch 2 Batch 300 Loss 0.7453\n",
            "Epoch 2 Batch 400 Loss 0.6899\n",
            "Epoch 2 Batch 500 Loss 0.7372\n",
            "Epoch 2 Batch 600 Loss 0.6908\n",
            "Epoch 2 Batch 700 Loss 0.6021\n",
            "Epoch 2 Batch 800 Loss 0.5152\n",
            "Epoch 2 Batch 900 Loss 0.4861\n",
            "Epoch 2 Batch 1000 Loss 0.5604\n",
            "Epoch 2 Batch 1100 Loss 0.5060\n",
            "Epoch 2 Batch 1200 Loss 0.5433\n",
            "Epoch 2 Loss 0.6543\n",
            "Time taken for 1 epoch 59.062817096710205 sec\n",
            "\n",
            "Epoch 3 Batch 0 Loss 0.3671\n",
            "Epoch 3 Batch 100 Loss 0.3026\n",
            "Epoch 3 Batch 200 Loss 0.3974\n",
            "Epoch 3 Batch 300 Loss 0.3877\n",
            "Epoch 3 Batch 400 Loss 0.3085\n",
            "Epoch 3 Batch 500 Loss 0.3236\n",
            "Epoch 3 Batch 600 Loss 0.3406\n",
            "Epoch 3 Batch 700 Loss 0.3333\n",
            "Epoch 3 Batch 800 Loss 0.3343\n",
            "Epoch 3 Batch 900 Loss 0.3346\n",
            "Epoch 3 Batch 1000 Loss 0.3616\n",
            "Epoch 3 Batch 1100 Loss 0.3138\n",
            "Epoch 3 Batch 1200 Loss 0.3253\n",
            "Epoch 3 Loss 0.3473\n",
            "Time taken for 1 epoch 58.6219699382782 sec\n",
            "\n",
            "Epoch 4 Batch 0 Loss 0.1813\n",
            "Epoch 4 Batch 100 Loss 0.1817\n",
            "Epoch 4 Batch 200 Loss 0.1106\n",
            "Epoch 4 Batch 300 Loss 0.2378\n",
            "Epoch 4 Batch 400 Loss 0.2131\n",
            "Epoch 4 Batch 500 Loss 0.1876\n",
            "Epoch 4 Batch 600 Loss 0.2183\n",
            "Epoch 4 Batch 700 Loss 0.2491\n",
            "Epoch 4 Batch 800 Loss 0.2199\n",
            "Epoch 4 Batch 900 Loss 0.1818\n",
            "Epoch 4 Batch 1000 Loss 0.2104\n",
            "Epoch 4 Batch 1100 Loss 0.2111\n",
            "Epoch 4 Batch 1200 Loss 0.1920\n",
            "Epoch 4 Loss 0.2088\n",
            "Time taken for 1 epoch 59.19612193107605 sec\n",
            "\n",
            "Epoch 5 Batch 0 Loss 0.0975\n",
            "Epoch 5 Batch 100 Loss 0.1159\n",
            "Epoch 5 Batch 200 Loss 0.1652\n",
            "Epoch 5 Batch 300 Loss 0.1015\n",
            "Epoch 5 Batch 400 Loss 0.1404\n",
            "Epoch 5 Batch 500 Loss 0.1765\n",
            "Epoch 5 Batch 600 Loss 0.1664\n",
            "Epoch 5 Batch 700 Loss 0.1396\n",
            "Epoch 5 Batch 800 Loss 0.1929\n",
            "Epoch 5 Batch 900 Loss 0.1422\n",
            "Epoch 5 Batch 1000 Loss 0.1372\n",
            "Epoch 5 Batch 1100 Loss 0.1388\n",
            "Epoch 5 Batch 1200 Loss 0.1605\n",
            "Epoch 5 Loss 0.1442\n",
            "Time taken for 1 epoch 58.351330280303955 sec\n",
            "\n",
            "Epoch 6 Batch 0 Loss 0.0900\n",
            "Epoch 6 Batch 100 Loss 0.0629\n",
            "Epoch 6 Batch 200 Loss 0.0862\n",
            "Epoch 6 Batch 300 Loss 0.0930\n",
            "Epoch 6 Batch 400 Loss 0.1133\n",
            "Epoch 6 Batch 500 Loss 0.1194\n",
            "Epoch 6 Batch 600 Loss 0.1181\n",
            "Epoch 6 Batch 700 Loss 0.1456\n",
            "Epoch 6 Batch 800 Loss 0.1190\n",
            "Epoch 6 Batch 900 Loss 0.1199\n",
            "Epoch 6 Batch 1000 Loss 0.1624\n",
            "Epoch 6 Batch 1100 Loss 0.1468\n",
            "Epoch 6 Batch 1200 Loss 0.1386\n",
            "Epoch 6 Loss 0.1135\n",
            "Time taken for 1 epoch 58.824058055877686 sec\n",
            "\n",
            "Epoch 7 Batch 0 Loss 0.0899\n",
            "Epoch 7 Batch 100 Loss 0.1127\n",
            "Epoch 7 Batch 200 Loss 0.0791\n",
            "Epoch 7 Batch 300 Loss 0.1084\n",
            "Epoch 7 Batch 400 Loss 0.0811\n",
            "Epoch 7 Batch 500 Loss 0.0922\n",
            "Epoch 7 Batch 600 Loss 0.1097\n",
            "Epoch 7 Batch 700 Loss 0.0839\n",
            "Epoch 7 Batch 800 Loss 0.0918\n",
            "Epoch 7 Batch 900 Loss 0.0827\n",
            "Epoch 7 Batch 1000 Loss 0.1060\n",
            "Epoch 7 Batch 1100 Loss 0.1003\n",
            "Epoch 7 Batch 1200 Loss 0.1230\n",
            "Epoch 7 Loss 0.0968\n",
            "Time taken for 1 epoch 58.37963342666626 sec\n",
            "\n",
            "Epoch 8 Batch 0 Loss 0.0821\n",
            "Epoch 8 Batch 100 Loss 0.0545\n",
            "Epoch 8 Batch 200 Loss 0.0721\n",
            "Epoch 8 Batch 300 Loss 0.0950\n",
            "Epoch 8 Batch 400 Loss 0.0868\n",
            "Epoch 8 Batch 500 Loss 0.0669\n",
            "Epoch 8 Batch 600 Loss 0.0723\n",
            "Epoch 8 Batch 700 Loss 0.0630\n",
            "Epoch 8 Batch 800 Loss 0.0950\n",
            "Epoch 8 Batch 900 Loss 0.1037\n",
            "Epoch 8 Batch 1000 Loss 0.0898\n",
            "Epoch 8 Batch 1100 Loss 0.0947\n",
            "Epoch 8 Batch 1200 Loss 0.0951\n",
            "Epoch 8 Loss 0.0881\n",
            "Time taken for 1 epoch 59.013280391693115 sec\n",
            "\n",
            "Epoch 9 Batch 0 Loss 0.0741\n",
            "Epoch 9 Batch 100 Loss 0.0476\n",
            "Epoch 9 Batch 200 Loss 0.0585\n",
            "Epoch 9 Batch 300 Loss 0.0507\n",
            "Epoch 9 Batch 400 Loss 0.0619\n",
            "Epoch 9 Batch 500 Loss 0.0610\n",
            "Epoch 9 Batch 600 Loss 0.0759\n",
            "Epoch 9 Batch 700 Loss 0.0922\n",
            "Epoch 9 Batch 800 Loss 0.0730\n",
            "Epoch 9 Batch 900 Loss 0.1430\n",
            "Epoch 9 Batch 1000 Loss 0.0880\n",
            "Epoch 9 Batch 1100 Loss 0.1028\n",
            "Epoch 9 Batch 1200 Loss 0.0900\n",
            "Epoch 9 Loss 0.0826\n",
            "Time taken for 1 epoch 58.41079902648926 sec\n",
            "\n",
            "Epoch 10 Batch 0 Loss 0.0494\n",
            "Epoch 10 Batch 100 Loss 0.0618\n",
            "Epoch 10 Batch 200 Loss 0.0862\n",
            "Epoch 10 Batch 300 Loss 0.0936\n",
            "Epoch 10 Batch 400 Loss 0.0514\n",
            "Epoch 10 Batch 500 Loss 0.0753\n",
            "Epoch 10 Batch 600 Loss 0.0772\n",
            "Epoch 10 Batch 700 Loss 0.0800\n",
            "Epoch 10 Batch 800 Loss 0.0696\n",
            "Epoch 10 Batch 900 Loss 0.1076\n",
            "Epoch 10 Batch 1000 Loss 0.0973\n",
            "Epoch 10 Batch 1100 Loss 0.0857\n",
            "Epoch 10 Batch 1200 Loss 0.0872\n",
            "Epoch 10 Loss 0.0781\n",
            "Time taken for 1 epoch 58.98440670967102 sec\n",
            "\n",
            "Epoch 11 Batch 0 Loss 0.0735\n",
            "Epoch 11 Batch 100 Loss 0.0540\n",
            "Epoch 11 Batch 200 Loss 0.0704\n",
            "Epoch 11 Batch 300 Loss 0.0870\n",
            "Epoch 11 Batch 400 Loss 0.1017\n",
            "Epoch 11 Batch 500 Loss 0.0598\n",
            "Epoch 11 Batch 600 Loss 0.0590\n",
            "Epoch 11 Batch 700 Loss 0.0942\n",
            "Epoch 11 Batch 800 Loss 0.0799\n",
            "Epoch 11 Batch 900 Loss 0.1093\n",
            "Epoch 11 Batch 1000 Loss 0.0558\n",
            "Epoch 11 Batch 1100 Loss 0.0908\n",
            "Epoch 11 Batch 1200 Loss 0.1004\n",
            "Epoch 11 Loss 0.0739\n",
            "Time taken for 1 epoch 58.42842769622803 sec\n",
            "\n",
            "Epoch 12 Batch 0 Loss 0.0332\n",
            "Epoch 12 Batch 100 Loss 0.0228\n",
            "Epoch 12 Batch 200 Loss 0.0721\n",
            "Epoch 12 Batch 300 Loss 0.0529\n",
            "Epoch 12 Batch 400 Loss 0.0420\n",
            "Epoch 12 Batch 500 Loss 0.0408\n",
            "Epoch 12 Batch 600 Loss 0.0527\n",
            "Epoch 12 Batch 700 Loss 0.0571\n",
            "Epoch 12 Batch 800 Loss 0.0777\n",
            "Epoch 12 Batch 900 Loss 0.0753\n",
            "Epoch 12 Batch 1000 Loss 0.0643\n",
            "Epoch 12 Batch 1100 Loss 0.0660\n",
            "Epoch 12 Batch 1200 Loss 0.1133\n",
            "Epoch 12 Loss 0.0720\n",
            "Time taken for 1 epoch 58.93721675872803 sec\n",
            "\n",
            "Epoch 13 Batch 0 Loss 0.0712\n",
            "Epoch 13 Batch 100 Loss 0.1057\n",
            "Epoch 13 Batch 200 Loss 0.0782\n",
            "Epoch 13 Batch 300 Loss 0.0857\n",
            "Epoch 13 Batch 400 Loss 0.0760\n",
            "Epoch 13 Batch 500 Loss 0.0528\n",
            "Epoch 13 Batch 600 Loss 0.0936\n",
            "Epoch 13 Batch 700 Loss 0.0747\n",
            "Epoch 13 Batch 800 Loss 0.0560\n",
            "Epoch 13 Batch 900 Loss 0.0548\n",
            "Epoch 13 Batch 1000 Loss 0.0710\n",
            "Epoch 13 Batch 1100 Loss 0.0989\n",
            "Epoch 13 Batch 1200 Loss 0.1135\n",
            "Epoch 13 Loss 0.0690\n",
            "Time taken for 1 epoch 58.402029275894165 sec\n",
            "\n",
            "Epoch 14 Batch 0 Loss 0.0734\n",
            "Epoch 14 Batch 100 Loss 0.0589\n",
            "Epoch 14 Batch 200 Loss 0.0565\n",
            "Epoch 14 Batch 300 Loss 0.0702\n",
            "Epoch 14 Batch 400 Loss 0.0577\n",
            "Epoch 14 Batch 500 Loss 0.0789\n",
            "Epoch 14 Batch 600 Loss 0.0323\n",
            "Epoch 14 Batch 700 Loss 0.0593\n",
            "Epoch 14 Batch 800 Loss 0.0868\n",
            "Epoch 14 Batch 900 Loss 0.0632\n",
            "Epoch 14 Batch 1000 Loss 0.0746\n",
            "Epoch 14 Batch 1100 Loss 0.0614\n",
            "Epoch 14 Batch 1200 Loss 0.0702\n",
            "Epoch 14 Loss 0.0678\n",
            "Time taken for 1 epoch 58.91972494125366 sec\n",
            "\n",
            "Epoch 15 Batch 0 Loss 0.0526\n",
            "Epoch 15 Batch 100 Loss 0.0700\n",
            "Epoch 15 Batch 200 Loss 0.0803\n",
            "Epoch 15 Batch 300 Loss 0.0443\n",
            "Epoch 15 Batch 400 Loss 0.0905\n",
            "Epoch 15 Batch 500 Loss 0.0668\n",
            "Epoch 15 Batch 600 Loss 0.0755\n",
            "Epoch 15 Batch 700 Loss 0.0516\n",
            "Epoch 15 Batch 800 Loss 0.0627\n",
            "Epoch 15 Batch 900 Loss 0.0670\n",
            "Epoch 15 Batch 1000 Loss 0.1165\n",
            "Epoch 15 Batch 1100 Loss 0.0752\n",
            "Epoch 15 Batch 1200 Loss 0.0916\n",
            "Epoch 15 Loss 0.0663\n",
            "Time taken for 1 epoch 58.38015294075012 sec\n",
            "\n",
            "Epoch 16 Batch 0 Loss 0.0614\n",
            "Epoch 16 Batch 100 Loss 0.0556\n",
            "Epoch 16 Batch 200 Loss 0.0528\n",
            "Epoch 16 Batch 300 Loss 0.0372\n",
            "Epoch 16 Batch 400 Loss 0.0442\n",
            "Epoch 16 Batch 500 Loss 0.0687\n",
            "Epoch 16 Batch 600 Loss 0.0552\n",
            "Epoch 16 Batch 700 Loss 0.0685\n",
            "Epoch 16 Batch 800 Loss 0.0775\n",
            "Epoch 16 Batch 900 Loss 0.0713\n",
            "Epoch 16 Batch 1000 Loss 0.0568\n",
            "Epoch 16 Batch 1100 Loss 0.0745\n",
            "Epoch 16 Batch 1200 Loss 0.1078\n",
            "Epoch 16 Loss 0.0644\n",
            "Time taken for 1 epoch 58.91123032569885 sec\n",
            "\n",
            "Epoch 17 Batch 0 Loss 0.0316\n",
            "Epoch 17 Batch 100 Loss 0.0454\n",
            "Epoch 17 Batch 200 Loss 0.0666\n",
            "Epoch 17 Batch 300 Loss 0.0388\n",
            "Epoch 17 Batch 400 Loss 0.0629\n",
            "Epoch 17 Batch 500 Loss 0.0444\n",
            "Epoch 17 Batch 600 Loss 0.0587\n",
            "Epoch 17 Batch 700 Loss 0.0639\n",
            "Epoch 17 Batch 800 Loss 0.0720\n",
            "Epoch 17 Batch 900 Loss 0.0634\n",
            "Epoch 17 Batch 1000 Loss 0.0868\n",
            "Epoch 17 Batch 1100 Loss 0.0497\n",
            "Epoch 17 Batch 1200 Loss 0.0883\n",
            "Epoch 17 Loss 0.0632\n",
            "Time taken for 1 epoch 58.36620044708252 sec\n",
            "\n",
            "Epoch 18 Batch 0 Loss 0.0199\n",
            "Epoch 18 Batch 100 Loss 0.0377\n",
            "Epoch 18 Batch 200 Loss 0.0503\n",
            "Epoch 18 Batch 300 Loss 0.1112\n",
            "Epoch 18 Batch 400 Loss 0.0387\n",
            "Epoch 18 Batch 500 Loss 0.0608\n",
            "Epoch 18 Batch 600 Loss 0.0757\n",
            "Epoch 18 Batch 700 Loss 0.0613\n",
            "Epoch 18 Batch 800 Loss 0.0598\n",
            "Epoch 18 Batch 900 Loss 0.0577\n",
            "Epoch 18 Batch 1000 Loss 0.0947\n",
            "Epoch 18 Batch 1100 Loss 0.0454\n",
            "Epoch 18 Batch 1200 Loss 0.0891\n",
            "Epoch 18 Loss 0.0615\n",
            "Time taken for 1 epoch 58.84761667251587 sec\n",
            "\n",
            "Epoch 19 Batch 0 Loss 0.0494\n",
            "Epoch 19 Batch 100 Loss 0.0414\n",
            "Epoch 19 Batch 200 Loss 0.0328\n",
            "Epoch 19 Batch 300 Loss 0.0557\n",
            "Epoch 19 Batch 400 Loss 0.0360\n",
            "Epoch 19 Batch 500 Loss 0.0708\n",
            "Epoch 19 Batch 600 Loss 0.0313\n",
            "Epoch 19 Batch 700 Loss 0.1017\n",
            "Epoch 19 Batch 800 Loss 0.0412\n",
            "Epoch 19 Batch 900 Loss 0.0758\n",
            "Epoch 19 Batch 1000 Loss 0.0676\n",
            "Epoch 19 Batch 1100 Loss 0.1158\n",
            "Epoch 19 Batch 1200 Loss 0.0442\n",
            "Epoch 19 Loss 0.0605\n",
            "Time taken for 1 epoch 58.340620040893555 sec\n",
            "\n",
            "Epoch 20 Batch 0 Loss 0.0826\n",
            "Epoch 20 Batch 100 Loss 0.0661\n",
            "Epoch 20 Batch 200 Loss 0.0553\n",
            "Epoch 20 Batch 300 Loss 0.0497\n",
            "Epoch 20 Batch 400 Loss 0.0812\n",
            "Epoch 20 Batch 500 Loss 0.0352\n",
            "Epoch 20 Batch 600 Loss 0.0509\n",
            "Epoch 20 Batch 700 Loss 0.0485\n",
            "Epoch 20 Batch 800 Loss 0.0966\n",
            "Epoch 20 Batch 900 Loss 0.0945\n",
            "Epoch 20 Batch 1000 Loss 0.0455\n",
            "Epoch 20 Batch 1100 Loss 0.0728\n",
            "Epoch 20 Batch 1200 Loss 0.0874\n",
            "Epoch 20 Loss 0.0589\n",
            "Time taken for 1 epoch 58.9497594833374 sec\n",
            "\n",
            "Epoch 21 Batch 0 Loss 0.0431\n",
            "Epoch 21 Batch 100 Loss 0.0745\n",
            "Epoch 21 Batch 200 Loss 0.0334\n",
            "Epoch 21 Batch 300 Loss 0.0364\n",
            "Epoch 21 Batch 400 Loss 0.0284\n",
            "Epoch 21 Batch 500 Loss 0.0568\n",
            "Epoch 21 Batch 600 Loss 0.0704\n",
            "Epoch 21 Batch 700 Loss 0.0420\n",
            "Epoch 21 Batch 800 Loss 0.0555\n",
            "Epoch 21 Batch 900 Loss 0.0513\n",
            "Epoch 21 Batch 1000 Loss 0.0879\n",
            "Epoch 21 Batch 1100 Loss 0.0475\n",
            "Epoch 21 Batch 1200 Loss 0.0582\n",
            "Epoch 21 Loss 0.0582\n",
            "Time taken for 1 epoch 58.41042876243591 sec\n",
            "\n",
            "Epoch 22 Batch 0 Loss 0.0609\n",
            "Epoch 22 Batch 100 Loss 0.0324\n",
            "Epoch 22 Batch 200 Loss 0.0618\n",
            "Epoch 22 Batch 300 Loss 0.0906\n",
            "Epoch 22 Batch 400 Loss 0.0380\n",
            "Epoch 22 Batch 500 Loss 0.0925\n",
            "Epoch 22 Batch 600 Loss 0.0682\n",
            "Epoch 22 Batch 700 Loss 0.0641\n",
            "Epoch 22 Batch 800 Loss 0.0852\n",
            "Epoch 22 Batch 900 Loss 0.0838\n",
            "Epoch 22 Batch 1000 Loss 0.0921\n",
            "Epoch 22 Batch 1100 Loss 0.0901\n",
            "Epoch 22 Batch 1200 Loss 0.0572\n",
            "Epoch 22 Loss 0.0574\n",
            "Time taken for 1 epoch 58.8554003238678 sec\n",
            "\n",
            "Epoch 23 Batch 0 Loss 0.0524\n",
            "Epoch 23 Batch 100 Loss 0.0436\n",
            "Epoch 23 Batch 200 Loss 0.0395\n",
            "Epoch 23 Batch 300 Loss 0.0464\n",
            "Epoch 23 Batch 400 Loss 0.0410\n",
            "Epoch 23 Batch 500 Loss 0.0838\n",
            "Epoch 23 Batch 600 Loss 0.0481\n",
            "Epoch 23 Batch 700 Loss 0.0630\n",
            "Epoch 23 Batch 800 Loss 0.0718\n",
            "Epoch 23 Batch 900 Loss 0.0855\n",
            "Epoch 23 Batch 1000 Loss 0.0911\n",
            "Epoch 23 Batch 1100 Loss 0.0618\n",
            "Epoch 23 Batch 1200 Loss 0.0528\n",
            "Epoch 23 Loss 0.0561\n",
            "Time taken for 1 epoch 58.26180458068848 sec\n",
            "\n",
            "Epoch 24 Batch 0 Loss 0.0536\n",
            "Epoch 24 Batch 100 Loss 0.0119\n",
            "Epoch 24 Batch 200 Loss 0.0306\n",
            "Epoch 24 Batch 300 Loss 0.0474\n",
            "Epoch 24 Batch 400 Loss 0.0272\n",
            "Epoch 24 Batch 500 Loss 0.0364\n",
            "Epoch 24 Batch 600 Loss 0.0686\n",
            "Epoch 24 Batch 700 Loss 0.0509\n",
            "Epoch 24 Batch 800 Loss 0.0639\n",
            "Epoch 24 Batch 900 Loss 0.0321\n",
            "Epoch 24 Batch 1000 Loss 0.0768\n",
            "Epoch 24 Batch 1100 Loss 0.0920\n",
            "Epoch 24 Batch 1200 Loss 0.0510\n",
            "Epoch 24 Loss 0.0552\n",
            "Time taken for 1 epoch 59.01646900177002 sec\n",
            "\n",
            "Epoch 25 Batch 0 Loss 0.0393\n",
            "Epoch 25 Batch 100 Loss 0.0195\n",
            "Epoch 25 Batch 200 Loss 0.0252\n",
            "Epoch 25 Batch 300 Loss 0.0492\n",
            "Epoch 25 Batch 400 Loss 0.0610\n",
            "Epoch 25 Batch 500 Loss 0.0423\n",
            "Epoch 25 Batch 600 Loss 0.0451\n",
            "Epoch 25 Batch 700 Loss 0.0555\n",
            "Epoch 25 Batch 800 Loss 0.0441\n",
            "Epoch 25 Batch 900 Loss 0.0739\n",
            "Epoch 25 Batch 1000 Loss 0.0665\n",
            "Epoch 25 Batch 1100 Loss 0.0576\n",
            "Epoch 25 Batch 1200 Loss 0.0691\n",
            "Epoch 25 Loss 0.0544\n",
            "Time taken for 1 epoch 58.3628203868866 sec\n",
            "\n",
            "Epoch 26 Batch 0 Loss 0.0617\n",
            "Epoch 26 Batch 100 Loss 0.0299\n",
            "Epoch 26 Batch 200 Loss 0.0172\n",
            "Epoch 26 Batch 300 Loss 0.0526\n",
            "Epoch 26 Batch 400 Loss 0.0534\n",
            "Epoch 26 Batch 500 Loss 0.0583\n",
            "Epoch 26 Batch 600 Loss 0.0536\n",
            "Epoch 26 Batch 700 Loss 0.0606\n",
            "Epoch 26 Batch 800 Loss 0.0732\n",
            "Epoch 26 Batch 900 Loss 0.0711\n",
            "Epoch 26 Batch 1000 Loss 0.0541\n",
            "Epoch 26 Batch 1100 Loss 0.0509\n",
            "Epoch 26 Batch 1200 Loss 0.1034\n",
            "Epoch 26 Loss 0.0533\n",
            "Time taken for 1 epoch 58.94007587432861 sec\n",
            "\n",
            "Epoch 27 Batch 0 Loss 0.0680\n",
            "Epoch 27 Batch 100 Loss 0.0273\n",
            "Epoch 27 Batch 200 Loss 0.0348\n",
            "Epoch 27 Batch 300 Loss 0.0643\n",
            "Epoch 27 Batch 400 Loss 0.0502\n",
            "Epoch 27 Batch 500 Loss 0.0724\n",
            "Epoch 27 Batch 600 Loss 0.0744\n",
            "Epoch 27 Batch 700 Loss 0.0381\n",
            "Epoch 27 Batch 800 Loss 0.0887\n",
            "Epoch 27 Batch 900 Loss 0.0826\n",
            "Epoch 27 Batch 1000 Loss 0.0634\n",
            "Epoch 27 Batch 1100 Loss 0.0631\n",
            "Epoch 27 Batch 1200 Loss 0.0621\n",
            "Epoch 27 Loss 0.0529\n",
            "Time taken for 1 epoch 58.378923654556274 sec\n",
            "\n",
            "Epoch 28 Batch 0 Loss 0.0398\n",
            "Epoch 28 Batch 100 Loss 0.0613\n",
            "Epoch 28 Batch 200 Loss 0.0174\n",
            "Epoch 28 Batch 300 Loss 0.0804\n",
            "Epoch 28 Batch 400 Loss 0.0260\n",
            "Epoch 28 Batch 500 Loss 0.0546\n",
            "Epoch 28 Batch 600 Loss 0.0364\n",
            "Epoch 28 Batch 700 Loss 0.0710\n",
            "Epoch 28 Batch 800 Loss 0.1275\n",
            "Epoch 28 Batch 900 Loss 0.0449\n",
            "Epoch 28 Batch 1000 Loss 0.0643\n",
            "Epoch 28 Batch 1100 Loss 0.0501\n",
            "Epoch 28 Batch 1200 Loss 0.0722\n",
            "Epoch 28 Loss 0.0523\n",
            "Time taken for 1 epoch 58.96801137924194 sec\n",
            "\n",
            "Epoch 29 Batch 0 Loss 0.0157\n",
            "Epoch 29 Batch 100 Loss 0.0597\n",
            "Epoch 29 Batch 200 Loss 0.0461\n",
            "Epoch 29 Batch 300 Loss 0.0540\n",
            "Epoch 29 Batch 400 Loss 0.0548\n",
            "Epoch 29 Batch 500 Loss 0.0445\n",
            "Epoch 29 Batch 600 Loss 0.0629\n",
            "Epoch 29 Batch 700 Loss 0.0682\n",
            "Epoch 29 Batch 800 Loss 0.0640\n",
            "Epoch 29 Batch 900 Loss 0.0574\n",
            "Epoch 29 Batch 1000 Loss 0.0555\n",
            "Epoch 29 Batch 1100 Loss 0.0398\n",
            "Epoch 29 Batch 1200 Loss 0.0516\n",
            "Epoch 29 Loss 0.0510\n",
            "Time taken for 1 epoch 58.35028791427612 sec\n",
            "\n",
            "Epoch 30 Batch 0 Loss 0.0364\n",
            "Epoch 30 Batch 100 Loss 0.0389\n",
            "Epoch 30 Batch 200 Loss 0.0536\n",
            "Epoch 30 Batch 300 Loss 0.0379\n",
            "Epoch 30 Batch 400 Loss 0.0590\n",
            "Epoch 30 Batch 500 Loss 0.0563\n",
            "Epoch 30 Batch 600 Loss 0.0517\n",
            "Epoch 30 Batch 700 Loss 0.0492\n",
            "Epoch 30 Batch 800 Loss 0.0265\n",
            "Epoch 30 Batch 900 Loss 0.0397\n",
            "Epoch 30 Batch 1000 Loss 0.0226\n",
            "Epoch 30 Batch 1100 Loss 0.0524\n",
            "Epoch 30 Batch 1200 Loss 0.0456\n",
            "Epoch 30 Loss 0.0508\n",
            "Time taken for 1 epoch 58.926804542541504 sec\n",
            "\n",
            "Epoch 31 Batch 0 Loss 0.0584\n",
            "Epoch 31 Batch 100 Loss 0.0467\n",
            "Epoch 31 Batch 200 Loss 0.0339\n",
            "Epoch 31 Batch 300 Loss 0.0285\n",
            "Epoch 31 Batch 400 Loss 0.0711\n",
            "Epoch 31 Batch 500 Loss 0.0332\n",
            "Epoch 31 Batch 600 Loss 0.0484\n",
            "Epoch 31 Batch 700 Loss 0.0559\n",
            "Epoch 31 Batch 800 Loss 0.0536\n",
            "Epoch 31 Batch 900 Loss 0.0467\n",
            "Epoch 31 Batch 1000 Loss 0.0721\n",
            "Epoch 31 Batch 1100 Loss 0.0261\n",
            "Epoch 31 Batch 1200 Loss 0.0853\n",
            "Epoch 31 Loss 0.0498\n",
            "Time taken for 1 epoch 58.25975322723389 sec\n",
            "\n",
            "Epoch 32 Batch 0 Loss 0.0463\n",
            "Epoch 32 Batch 100 Loss 0.0206\n",
            "Epoch 32 Batch 200 Loss 0.0248\n",
            "Epoch 32 Batch 300 Loss 0.0271\n",
            "Epoch 32 Batch 400 Loss 0.0274\n",
            "Epoch 32 Batch 500 Loss 0.0622\n",
            "Epoch 32 Batch 600 Loss 0.0432\n",
            "Epoch 32 Batch 700 Loss 0.0477\n",
            "Epoch 32 Batch 800 Loss 0.0414\n",
            "Epoch 32 Batch 900 Loss 0.0419\n",
            "Epoch 32 Batch 1000 Loss 0.0528\n",
            "Epoch 32 Batch 1100 Loss 0.0480\n",
            "Epoch 32 Batch 1200 Loss 0.0405\n",
            "Epoch 32 Loss 0.0502\n",
            "Time taken for 1 epoch 58.86850428581238 sec\n",
            "\n",
            "Epoch 33 Batch 0 Loss 0.0471\n",
            "Epoch 33 Batch 100 Loss 0.0396\n",
            "Epoch 33 Batch 200 Loss 0.0478\n",
            "Epoch 33 Batch 300 Loss 0.0520\n",
            "Epoch 33 Batch 400 Loss 0.0491\n",
            "Epoch 33 Batch 500 Loss 0.0620\n",
            "Epoch 33 Batch 600 Loss 0.0538\n",
            "Epoch 33 Batch 700 Loss 0.0345\n",
            "Epoch 33 Batch 800 Loss 0.0335\n",
            "Epoch 33 Batch 900 Loss 0.0526\n",
            "Epoch 33 Batch 1000 Loss 0.0695\n",
            "Epoch 33 Batch 1100 Loss 0.0415\n",
            "Epoch 33 Batch 1200 Loss 0.0641\n",
            "Epoch 33 Loss 0.0489\n",
            "Time taken for 1 epoch 58.293298959732056 sec\n",
            "\n",
            "Epoch 34 Batch 0 Loss 0.0452\n",
            "Epoch 34 Batch 100 Loss 0.0400\n",
            "Epoch 34 Batch 200 Loss 0.0312\n",
            "Epoch 34 Batch 300 Loss 0.0454\n",
            "Epoch 34 Batch 400 Loss 0.0280\n",
            "Epoch 34 Batch 500 Loss 0.0410\n",
            "Epoch 34 Batch 600 Loss 0.0228\n",
            "Epoch 34 Batch 700 Loss 0.0388\n",
            "Epoch 34 Batch 800 Loss 0.0437\n",
            "Epoch 34 Batch 900 Loss 0.0717\n",
            "Epoch 34 Batch 1000 Loss 0.0470\n",
            "Epoch 34 Batch 1100 Loss 0.0514\n",
            "Epoch 34 Batch 1200 Loss 0.0410\n",
            "Epoch 34 Loss 0.0479\n",
            "Time taken for 1 epoch 58.97068786621094 sec\n",
            "\n",
            "Epoch 35 Batch 0 Loss 0.0809\n",
            "Epoch 35 Batch 100 Loss 0.0314\n",
            "Epoch 35 Batch 200 Loss 0.0436\n",
            "Epoch 35 Batch 300 Loss 0.0276\n",
            "Epoch 35 Batch 400 Loss 0.0460\n",
            "Epoch 35 Batch 500 Loss 0.0355\n",
            "Epoch 35 Batch 600 Loss 0.0618\n",
            "Epoch 35 Batch 700 Loss 0.0682\n",
            "Epoch 35 Batch 800 Loss 0.0330\n",
            "Epoch 35 Batch 900 Loss 0.0604\n",
            "Epoch 35 Batch 1000 Loss 0.0325\n",
            "Epoch 35 Batch 1100 Loss 0.0689\n",
            "Epoch 35 Batch 1200 Loss 0.0768\n",
            "Epoch 35 Loss 0.0478\n",
            "Time taken for 1 epoch 58.344210147857666 sec\n",
            "\n",
            "Epoch 36 Batch 0 Loss 0.0290\n",
            "Epoch 36 Batch 100 Loss 0.0445\n",
            "Epoch 36 Batch 200 Loss 0.0408\n",
            "Epoch 36 Batch 300 Loss 0.0269\n",
            "Epoch 36 Batch 400 Loss 0.0446\n",
            "Epoch 36 Batch 500 Loss 0.0532\n",
            "Epoch 36 Batch 600 Loss 0.0391\n",
            "Epoch 36 Batch 700 Loss 0.0705\n",
            "Epoch 36 Batch 800 Loss 0.0592\n",
            "Epoch 36 Batch 900 Loss 0.0555\n",
            "Epoch 36 Batch 1000 Loss 0.0587\n",
            "Epoch 36 Batch 1100 Loss 0.0390\n",
            "Epoch 36 Batch 1200 Loss 0.0683\n",
            "Epoch 36 Loss 0.0472\n",
            "Time taken for 1 epoch 58.95881462097168 sec\n",
            "\n",
            "Epoch 37 Batch 0 Loss 0.0569\n",
            "Epoch 37 Batch 100 Loss 0.0330\n",
            "Epoch 37 Batch 200 Loss 0.0116\n",
            "Epoch 37 Batch 300 Loss 0.0418\n",
            "Epoch 37 Batch 400 Loss 0.0438\n",
            "Epoch 37 Batch 500 Loss 0.0326\n",
            "Epoch 37 Batch 600 Loss 0.0418\n",
            "Epoch 37 Batch 700 Loss 0.0262\n",
            "Epoch 37 Batch 800 Loss 0.0611\n",
            "Epoch 37 Batch 900 Loss 0.0410\n",
            "Epoch 37 Batch 1000 Loss 0.0572\n",
            "Epoch 37 Batch 1100 Loss 0.0581\n",
            "Epoch 37 Batch 1200 Loss 0.0673\n",
            "Epoch 37 Loss 0.0466\n",
            "Time taken for 1 epoch 58.306151151657104 sec\n",
            "\n",
            "Epoch 38 Batch 0 Loss 0.0259\n",
            "Epoch 38 Batch 100 Loss 0.0219\n",
            "Epoch 38 Batch 200 Loss 0.0226\n",
            "Epoch 38 Batch 300 Loss 0.0155\n",
            "Epoch 38 Batch 400 Loss 0.0278\n",
            "Epoch 38 Batch 500 Loss 0.0429\n",
            "Epoch 38 Batch 600 Loss 0.0343\n",
            "Epoch 38 Batch 700 Loss 0.0520\n",
            "Epoch 38 Batch 800 Loss 0.0424\n",
            "Epoch 38 Batch 900 Loss 0.0637\n",
            "Epoch 38 Batch 1000 Loss 0.0380\n",
            "Epoch 38 Batch 1100 Loss 0.0471\n",
            "Epoch 38 Batch 1200 Loss 0.0457\n",
            "Epoch 38 Loss 0.0463\n",
            "Time taken for 1 epoch 58.94351124763489 sec\n",
            "\n",
            "Epoch 39 Batch 0 Loss 0.0459\n",
            "Epoch 39 Batch 100 Loss 0.0156\n",
            "Epoch 39 Batch 200 Loss 0.0423\n",
            "Epoch 39 Batch 300 Loss 0.0449\n",
            "Epoch 39 Batch 400 Loss 0.0461\n",
            "Epoch 39 Batch 500 Loss 0.0554\n",
            "Epoch 39 Batch 600 Loss 0.0662\n",
            "Epoch 39 Batch 700 Loss 0.0469\n",
            "Epoch 39 Batch 800 Loss 0.0562\n",
            "Epoch 39 Batch 900 Loss 0.0520\n",
            "Epoch 39 Batch 1000 Loss 0.0587\n",
            "Epoch 39 Batch 1100 Loss 0.0479\n",
            "Epoch 39 Batch 1200 Loss 0.0652\n",
            "Epoch 39 Loss 0.0457\n",
            "Time taken for 1 epoch 58.4139187335968 sec\n",
            "\n",
            "Epoch 40 Batch 0 Loss 0.0259\n",
            "Epoch 40 Batch 100 Loss 0.0365\n",
            "Epoch 40 Batch 200 Loss 0.0320\n",
            "Epoch 40 Batch 300 Loss 0.0415\n",
            "Epoch 40 Batch 400 Loss 0.0291\n",
            "Epoch 40 Batch 500 Loss 0.0444\n",
            "Epoch 40 Batch 600 Loss 0.0356\n",
            "Epoch 40 Batch 700 Loss 0.0660\n",
            "Epoch 40 Batch 800 Loss 0.0441\n",
            "Epoch 40 Batch 900 Loss 0.0726\n",
            "Epoch 40 Batch 1000 Loss 0.0519\n",
            "Epoch 40 Batch 1100 Loss 0.0398\n",
            "Epoch 40 Batch 1200 Loss 0.0364\n",
            "Epoch 40 Loss 0.0453\n",
            "Time taken for 1 epoch 58.92915630340576 sec\n",
            "\n",
            "Epoch 41 Batch 0 Loss 0.0455\n",
            "Epoch 41 Batch 100 Loss 0.0630\n",
            "Epoch 41 Batch 200 Loss 0.0444\n",
            "Epoch 41 Batch 300 Loss 0.0160\n",
            "Epoch 41 Batch 400 Loss 0.0631\n",
            "Epoch 41 Batch 500 Loss 0.0341\n",
            "Epoch 41 Batch 600 Loss 0.0338\n",
            "Epoch 41 Batch 700 Loss 0.0362\n",
            "Epoch 41 Batch 800 Loss 0.0518\n",
            "Epoch 41 Batch 900 Loss 0.0502\n",
            "Epoch 41 Batch 1000 Loss 0.0330\n",
            "Epoch 41 Batch 1100 Loss 0.0241\n",
            "Epoch 41 Batch 1200 Loss 0.0695\n",
            "Epoch 41 Loss 0.0453\n",
            "Time taken for 1 epoch 58.3750855922699 sec\n",
            "\n",
            "Epoch 42 Batch 0 Loss 0.0539\n",
            "Epoch 42 Batch 100 Loss 0.0460\n",
            "Epoch 42 Batch 200 Loss 0.0229\n",
            "Epoch 42 Batch 300 Loss 0.0230\n",
            "Epoch 42 Batch 400 Loss 0.0397\n",
            "Epoch 42 Batch 500 Loss 0.0443\n",
            "Epoch 42 Batch 600 Loss 0.0235\n",
            "Epoch 42 Batch 700 Loss 0.0874\n",
            "Epoch 42 Batch 800 Loss 0.0363\n",
            "Epoch 42 Batch 900 Loss 0.0426\n",
            "Epoch 42 Batch 1000 Loss 0.0340\n",
            "Epoch 42 Batch 1100 Loss 0.0236\n",
            "Epoch 42 Batch 1200 Loss 0.0697\n",
            "Epoch 42 Loss 0.0444\n",
            "Time taken for 1 epoch 59.14315867424011 sec\n",
            "\n",
            "Epoch 43 Batch 0 Loss 0.0514\n",
            "Epoch 43 Batch 100 Loss 0.0328\n",
            "Epoch 43 Batch 200 Loss 0.0329\n",
            "Epoch 43 Batch 300 Loss 0.0574\n",
            "Epoch 43 Batch 400 Loss 0.0567\n",
            "Epoch 43 Batch 500 Loss 0.0372\n",
            "Epoch 43 Batch 600 Loss 0.0563\n",
            "Epoch 43 Batch 700 Loss 0.0556\n",
            "Epoch 43 Batch 800 Loss 0.0344\n",
            "Epoch 43 Batch 900 Loss 0.0433\n",
            "Epoch 43 Batch 1000 Loss 0.0624\n",
            "Epoch 43 Batch 1100 Loss 0.0314\n",
            "Epoch 43 Batch 1200 Loss 0.0427\n",
            "Epoch 43 Loss 0.0443\n",
            "Time taken for 1 epoch 58.497133016586304 sec\n",
            "\n",
            "Epoch 44 Batch 0 Loss 0.0285\n",
            "Epoch 44 Batch 100 Loss 0.0370\n",
            "Epoch 44 Batch 200 Loss 0.0369\n",
            "Epoch 44 Batch 300 Loss 0.0561\n",
            "Epoch 44 Batch 400 Loss 0.0558\n",
            "Epoch 44 Batch 500 Loss 0.0628\n",
            "Epoch 44 Batch 600 Loss 0.0271\n",
            "Epoch 44 Batch 700 Loss 0.0396\n",
            "Epoch 44 Batch 800 Loss 0.0345\n",
            "Epoch 44 Batch 900 Loss 0.0683\n",
            "Epoch 44 Batch 1000 Loss 0.0515\n",
            "Epoch 44 Batch 1100 Loss 0.0727\n",
            "Epoch 44 Batch 1200 Loss 0.0415\n",
            "Epoch 44 Loss 0.0439\n",
            "Time taken for 1 epoch 59.048253536224365 sec\n",
            "\n",
            "Epoch 45 Batch 0 Loss 0.0318\n",
            "Epoch 45 Batch 100 Loss 0.0320\n",
            "Epoch 45 Batch 200 Loss 0.0218\n",
            "Epoch 45 Batch 300 Loss 0.0132\n",
            "Epoch 45 Batch 400 Loss 0.0366\n",
            "Epoch 45 Batch 500 Loss 0.0675\n",
            "Epoch 45 Batch 600 Loss 0.0411\n",
            "Epoch 45 Batch 700 Loss 0.0450\n",
            "Epoch 45 Batch 800 Loss 0.0468\n",
            "Epoch 45 Batch 900 Loss 0.0366\n",
            "Epoch 45 Batch 1000 Loss 0.0364\n",
            "Epoch 45 Batch 1100 Loss 0.0431\n",
            "Epoch 45 Batch 1200 Loss 0.0549\n",
            "Epoch 45 Loss 0.0432\n",
            "Time taken for 1 epoch 58.31740713119507 sec\n",
            "\n",
            "Epoch 46 Batch 0 Loss 0.0353\n",
            "Epoch 46 Batch 100 Loss 0.0368\n",
            "Epoch 46 Batch 200 Loss 0.0241\n",
            "Epoch 46 Batch 300 Loss 0.0397\n",
            "Epoch 46 Batch 400 Loss 0.0471\n",
            "Epoch 46 Batch 500 Loss 0.0569\n",
            "Epoch 46 Batch 600 Loss 0.0674\n",
            "Epoch 46 Batch 700 Loss 0.0470\n",
            "Epoch 46 Batch 800 Loss 0.0454\n",
            "Epoch 46 Batch 900 Loss 0.0659\n",
            "Epoch 46 Batch 1000 Loss 0.0367\n",
            "Epoch 46 Batch 1100 Loss 0.0508\n",
            "Epoch 46 Batch 1200 Loss 0.0443\n",
            "Epoch 46 Loss 0.0438\n",
            "Time taken for 1 epoch 58.96181392669678 sec\n",
            "\n",
            "Epoch 47 Batch 0 Loss 0.0125\n",
            "Epoch 47 Batch 100 Loss 0.0447\n",
            "Epoch 47 Batch 200 Loss 0.0362\n",
            "Epoch 47 Batch 300 Loss 0.0506\n",
            "Epoch 47 Batch 400 Loss 0.0263\n",
            "Epoch 47 Batch 500 Loss 0.0407\n",
            "Epoch 47 Batch 600 Loss 0.0702\n",
            "Epoch 47 Batch 700 Loss 0.0333\n",
            "Epoch 47 Batch 800 Loss 0.0512\n",
            "Epoch 47 Batch 900 Loss 0.0514\n",
            "Epoch 47 Batch 1000 Loss 0.0532\n",
            "Epoch 47 Batch 1100 Loss 0.0714\n",
            "Epoch 47 Batch 1200 Loss 0.0910\n",
            "Epoch 47 Loss 0.0431\n",
            "Time taken for 1 epoch 58.36796855926514 sec\n",
            "\n",
            "Epoch 48 Batch 0 Loss 0.0194\n",
            "Epoch 48 Batch 100 Loss 0.0265\n",
            "Epoch 48 Batch 200 Loss 0.0305\n",
            "Epoch 48 Batch 300 Loss 0.0301\n",
            "Epoch 48 Batch 400 Loss 0.0452\n",
            "Epoch 48 Batch 500 Loss 0.0610\n",
            "Epoch 48 Batch 600 Loss 0.0326\n",
            "Epoch 48 Batch 700 Loss 0.0431\n",
            "Epoch 48 Batch 800 Loss 0.0355\n",
            "Epoch 48 Batch 900 Loss 0.0549\n",
            "Epoch 48 Batch 1000 Loss 0.0619\n",
            "Epoch 48 Batch 1100 Loss 0.0480\n",
            "Epoch 48 Batch 1200 Loss 0.0587\n",
            "Epoch 48 Loss 0.0423\n",
            "Time taken for 1 epoch 59.04950976371765 sec\n",
            "\n",
            "Epoch 49 Batch 0 Loss 0.0485\n",
            "Epoch 49 Batch 100 Loss 0.0402\n",
            "Epoch 49 Batch 200 Loss 0.0206\n",
            "Epoch 49 Batch 300 Loss 0.0453\n",
            "Epoch 49 Batch 400 Loss 0.0477\n",
            "Epoch 49 Batch 500 Loss 0.0365\n",
            "Epoch 49 Batch 600 Loss 0.0287\n",
            "Epoch 49 Batch 700 Loss 0.0274\n",
            "Epoch 49 Batch 800 Loss 0.0336\n",
            "Epoch 49 Batch 900 Loss 0.0490\n",
            "Epoch 49 Batch 1000 Loss 0.0630\n",
            "Epoch 49 Batch 1100 Loss 0.0483\n",
            "Epoch 49 Batch 1200 Loss 0.0627\n",
            "Epoch 49 Loss 0.0422\n",
            "Time taken for 1 epoch 58.49631333351135 sec\n",
            "\n",
            "Epoch 50 Batch 0 Loss 0.0322\n",
            "Epoch 50 Batch 100 Loss 0.0378\n",
            "Epoch 50 Batch 200 Loss 0.0323\n",
            "Epoch 50 Batch 300 Loss 0.0413\n",
            "Epoch 50 Batch 400 Loss 0.0407\n",
            "Epoch 50 Batch 500 Loss 0.0322\n",
            "Epoch 50 Batch 600 Loss 0.0318\n",
            "Epoch 50 Batch 700 Loss 0.0446\n",
            "Epoch 50 Batch 800 Loss 0.0322\n",
            "Epoch 50 Batch 900 Loss 0.0418\n",
            "Epoch 50 Batch 1000 Loss 0.0232\n",
            "Epoch 50 Batch 1100 Loss 0.0510\n",
            "Epoch 50 Batch 1200 Loss 0.0659\n",
            "Epoch 50 Loss 0.0424\n",
            "Time taken for 1 epoch 59.04072713851929 sec\n",
            "\n"
          ]
        }
      ],
      "source": [
        "EPOCHS = 50\n",
        "\n",
        "for epoch in range(EPOCHS):\n",
        "  start = time.time()\n",
        "\n",
        "  enc_hidden = encoder.initialize_hidden_state()\n",
        "  total_loss = 0\n",
        "\n",
        "  for (batch, (inp, targ)) in enumerate(dataset.take(steps_per_epoch)):\n",
        "    batch_loss = train_step(inp, targ, enc_hidden)\n",
        "    total_loss += batch_loss\n",
        "\n",
        "    if batch % 100 == 0:\n",
        "      print('Epoch {} Batch {} Loss {:.4f}'.format(epoch + 1,\n",
        "                                                   batch,\n",
        "                                                   batch_loss.numpy()))\n",
        "  # saving (checkpoint) the model every 2 epochs\n",
        "  if (epoch + 1) % 2 == 0:\n",
        "    checkpoint.save(file_prefix = checkpoint_prefix)\n",
        "\n",
        "  print('Epoch {} Loss {:.4f}'.format(epoch + 1,\n",
        "                                      total_loss / steps_per_epoch))\n",
        "  print('Time taken for 1 epoch {} sec\\n'.format(time.time() - start))"
      ]
    },
    {
      "cell_type": "code",
      "execution_count": 29,
      "metadata": {
        "id": "EbQpyYs13jF_"
      },
      "outputs": [],
      "source": [
        "# функция для оценки перевода\n",
        "def evaluate(sentence):\n",
        "    attention_plot = np.zeros((max_length_targ, max_length_inp))\n",
        "    # препроцессинг предложения\n",
        "    sentence = preprocess_sentence(sentence)\n",
        "    # переводим каждый токен в индекс\n",
        "    inputs = [inp_lang.word_index[i] for i in sentence.split(' ')]\n",
        "    inputs = tf.keras.preprocessing.sequence.pad_sequences([inputs],\n",
        "                                                         maxlen=max_length_inp,\n",
        "                                                         padding='post')\n",
        "    # переводим в тензор\n",
        "    inputs = tf.convert_to_tensor(inputs)\n",
        "\n",
        "    result = ''\n",
        "\n",
        "    hidden = [tf.zeros((1, units))]\n",
        "    # посылаем в энкодер\n",
        "    enc_hidden = encoder(inputs, hidden)\n",
        "\n",
        "    dec_hidden = enc_hidden\n",
        "    dec_input = tf.expand_dims([targ_lang.word_index['<start>']], 0)\n",
        "\n",
        "    for t in range(max_length_targ):\n",
        "        predictions, dec_hidden = decoder(dec_input, dec_hidden)\n",
        "\n",
        "        # storing the attention weights to plot later on\n",
        "        predicted_id = tf.argmax(predictions[0]).numpy()\n",
        "        # т.к. у нас нет таргета - передаём предсказание на следующий шаг\n",
        "        result += targ_lang.index_word[predicted_id] + ' '\n",
        "        # останавливаемся если встречаем токен конца\n",
        "        if targ_lang.index_word[predicted_id] == '<end>':\n",
        "            return result, sentence\n",
        "\n",
        "    # the predicted ID is fed back into the model\n",
        "    dec_input = tf.expand_dims([predicted_id], 0)\n",
        "\n",
        "    return result, sentence"
      ]
    },
    {
      "cell_type": "code",
      "execution_count": 30,
      "metadata": {
        "id": "sl9zUHzg3jGI"
      },
      "outputs": [],
      "source": [
        "def translate(sentence):\n",
        "  result, sentence = evaluate(sentence)\n",
        "\n",
        "  print('Input: %s' % (sentence))\n",
        "  print('Predicted translation: {}'.format(result))"
      ]
    },
    {
      "cell_type": "markdown",
      "metadata": {
        "id": "n250XbnjOaqP"
      },
      "source": [
        "## Без внимания качество перевода падает при увелечении длины предложения\n"
      ]
    },
    {
      "cell_type": "code",
      "execution_count": 31,
      "metadata": {
        "colab": {
          "base_uri": "https://localhost:8080/"
        },
        "id": "UJpT9D5_OgP6",
        "outputId": "35f0226b-3f28-4f94-a685-40fc217e687a"
      },
      "outputs": [
        {
          "output_type": "execute_result",
          "data": {
            "text/plain": [
              "<tensorflow.python.training.tracking.util.CheckpointLoadStatus at 0x7f233d46fc10>"
            ]
          },
          "metadata": {},
          "execution_count": 31
        }
      ],
      "source": [
        "# restoring the latest checkpoint in checkpoint_dir\n",
        "checkpoint.restore(tf.train.latest_checkpoint(checkpoint_dir))"
      ]
    },
    {
      "cell_type": "code",
      "execution_count": 32,
      "metadata": {
        "colab": {
          "base_uri": "https://localhost:8080/"
        },
        "id": "WrAM0FDomq3E",
        "outputId": "13c03d0a-5f25-4a9d-e656-45a5f5c09476"
      },
      "outputs": [
        {
          "output_type": "stream",
          "name": "stdout",
          "text": [
            "Input: <start> здесь хорошо . <end>\n",
            "Predicted translation: it's is good here . . . . . . . \n"
          ]
        }
      ],
      "source": [
        "translate('Здесь хорошо.')"
      ]
    },
    {
      "cell_type": "code",
      "execution_count": 33,
      "metadata": {
        "colab": {
          "base_uri": "https://localhost:8080/"
        },
        "id": "5bhFfwcIMX5i",
        "outputId": "d9b379ff-8990-46d7-e3b9-04d92f9f2284"
      },
      "outputs": [
        {
          "output_type": "stream",
          "name": "stdout",
          "text": [
            "Input: <start> я не смогу поехать . <end>\n",
            "Predicted translation: i can't go . . . . . . . . \n"
          ]
        }
      ],
      "source": [
        "translate('Я не смогу поехать.')"
      ]
    },
    {
      "cell_type": "code",
      "execution_count": 34,
      "metadata": {
        "colab": {
          "base_uri": "https://localhost:8080/"
        },
        "id": "zSx2iM36EZQZ",
        "outputId": "9f960e33-b466-4cea-916e-8bf082626eda"
      },
      "outputs": [
        {
          "output_type": "stream",
          "name": "stdout",
          "text": [
            "Input: <start> вы еще дома ? <end>\n",
            "Predicted translation: are are are still home ? ? ? ? ? ? \n"
          ]
        }
      ],
      "source": [
        "translate(u'Вы еще дома?')"
      ]
    },
    {
      "cell_type": "code",
      "execution_count": 35,
      "metadata": {
        "colab": {
          "base_uri": "https://localhost:8080/"
        },
        "id": "A3LLCx3ZE0Ls",
        "outputId": "2371e2fb-a839-440c-8623-56f69938df1c"
      },
      "outputs": [
        {
          "output_type": "stream",
          "name": "stdout",
          "text": [
            "Input: <start> вы все еще дома ? <end>\n",
            "Predicted translation: are are still still home ? ? ? ? ? ? \n"
          ]
        }
      ],
      "source": [
        "translate(u'Вы все еще дома?')"
      ]
    },
    {
      "cell_type": "code",
      "execution_count": 36,
      "metadata": {
        "colab": {
          "base_uri": "https://localhost:8080/"
        },
        "id": "DUQVLVqUE1YW",
        "outputId": "49c079a6-0974-48ab-9e8e-451ff75f3724"
      },
      "outputs": [
        {
          "output_type": "stream",
          "name": "stdout",
          "text": [
            "Input: <start> попробуй сделать это . <end>\n",
            "Predicted translation: try do to that . . . . . . . \n"
          ]
        }
      ],
      "source": [
        "translate(u'Попробуй сделать это.')"
      ]
    },
    {
      "cell_type": "code",
      "execution_count": 37,
      "metadata": {
        "colab": {
          "base_uri": "https://localhost:8080/"
        },
        "id": "f09_hUFx9EJh",
        "outputId": "12e9df1e-87d2-4ceb-d781-3d6d9f7a060f"
      },
      "outputs": [
        {
          "output_type": "stream",
          "name": "stdout",
          "text": [
            "Input: <start> я люблю , когда идет снег . <end>\n",
            "Predicted translation: i like like next now . . . . . . \n"
          ]
        }
      ],
      "source": [
        "translate(u'Я люблю, когда идет снег.')"
      ]
    },
    {
      "cell_type": "code",
      "execution_count": 38,
      "metadata": {
        "colab": {
          "base_uri": "https://localhost:8080/"
        },
        "id": "e7c5p8rmkHQG",
        "outputId": "2de717d9-0dc8-4288-99eb-05d420f74aa5"
      },
      "outputs": [
        {
          "output_type": "stream",
          "name": "stdout",
          "text": [
            "Input: <start> я никогда такого не делаю . <end>\n",
            "Predicted translation: i never never there . . . . . . . \n"
          ]
        }
      ],
      "source": [
        "translate(u'Я никогда такого не делаю.')"
      ]
    }
  ],
  "metadata": {
    "accelerator": "GPU",
    "colab": {
      "collapsed_sections": [],
      "name": "HW-#10.1.ipynb",
      "provenance": [],
      "include_colab_link": true
    },
    "kernelspec": {
      "display_name": "Python 3",
      "language": "python",
      "name": "python3"
    },
    "language_info": {
      "codemirror_mode": {
        "name": "ipython",
        "version": 3
      },
      "file_extension": ".py",
      "mimetype": "text/x-python",
      "name": "python",
      "nbconvert_exporter": "python",
      "pygments_lexer": "ipython3",
      "version": "3.8.8"
    },
    "toc": {
      "base_numbering": 1,
      "nav_menu": {},
      "number_sections": false,
      "sideBar": true,
      "skip_h1_title": true,
      "title_cell": "Table of Contents",
      "title_sidebar": "Contents",
      "toc_cell": false,
      "toc_position": {},
      "toc_section_display": true,
      "toc_window_display": false
    },
    "varInspector": {
      "cols": {
        "lenName": 16,
        "lenType": 16,
        "lenVar": 40
      },
      "kernels_config": {
        "python": {
          "delete_cmd_postfix": "",
          "delete_cmd_prefix": "del ",
          "library": "var_list.py",
          "varRefreshCmd": "print(var_dic_list())"
        },
        "r": {
          "delete_cmd_postfix": ") ",
          "delete_cmd_prefix": "rm(",
          "library": "var_list.r",
          "varRefreshCmd": "cat(var_dic_list()) "
        }
      },
      "types_to_exclude": [
        "module",
        "function",
        "builtin_function_or_method",
        "instance",
        "_Feature"
      ],
      "window_display": false
    }
  },
  "nbformat": 4,
  "nbformat_minor": 0
}