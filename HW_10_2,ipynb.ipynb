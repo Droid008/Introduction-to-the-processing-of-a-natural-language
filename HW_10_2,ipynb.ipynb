{
  "cells": [
    {
      "cell_type": "markdown",
      "metadata": {
        "id": "view-in-github",
        "colab_type": "text"
      },
      "source": [
        "<a href=\"https://colab.research.google.com/github/Droid008/Introduction-to-the-processing-of-a-natural-language/blob/Lesson-%2310/HW_10_2%2Cipynb.ipynb\" target=\"_parent\"><img src=\"https://colab.research.google.com/assets/colab-badge.svg\" alt=\"Open In Colab\"/></a>"
      ]
    },
    {
      "cell_type": "markdown",
      "metadata": {
        "id": "J0Qjg6vuaHNt"
      },
      "source": [
        "## С вниманием"
      ]
    },
    {
      "cell_type": "code",
      "execution_count": 1,
      "metadata": {
        "id": "tnxXKDjq3jEL"
      },
      "outputs": [],
      "source": [
        "import tensorflow as tf\n",
        "\n",
        "import matplotlib.pyplot as plt\n",
        "import matplotlib.ticker as ticker\n",
        "from sklearn.model_selection import train_test_split\n",
        "\n",
        "import unicodedata\n",
        "import re\n",
        "import numpy as np\n",
        "import os\n",
        "import io\n",
        "import time"
      ]
    },
    {
      "cell_type": "code",
      "execution_count": 2,
      "metadata": {
        "colab": {
          "base_uri": "https://localhost:8080/"
        },
        "id": "CNvjhDyAKk3U",
        "outputId": "e16d0d29-10e7-40ca-e3e9-ba4394dff5d5"
      },
      "outputs": [
        {
          "output_type": "stream",
          "name": "stdout",
          "text": [
            "--2022-06-30 14:13:30--  http://www.manythings.org/anki/rus-eng.zip\n",
            "Resolving www.manythings.org (www.manythings.org)... 173.254.30.110\n",
            "Connecting to www.manythings.org (www.manythings.org)|173.254.30.110|:80... connected.\n",
            "HTTP request sent, awaiting response... 200 OK\n",
            "Length: 14819554 (14M) [application/zip]\n",
            "Saving to: ‘rus-eng.zip’\n",
            "\n",
            "rus-eng.zip         100%[===================>]  14.13M  20.6MB/s    in 0.7s    \n",
            "\n",
            "2022-06-30 14:13:31 (20.6 MB/s) - ‘rus-eng.zip’ saved [14819554/14819554]\n",
            "\n"
          ]
        }
      ],
      "source": [
        "!wget http://www.manythings.org/anki/rus-eng.zip"
      ]
    },
    {
      "cell_type": "code",
      "execution_count": 3,
      "metadata": {
        "colab": {
          "base_uri": "https://localhost:8080/"
        },
        "id": "83bg17Lr-7XK",
        "outputId": "5ae9c675-35ce-40a1-fce7-82ae36c7e7fb"
      },
      "outputs": [
        {
          "output_type": "stream",
          "name": "stdout",
          "text": [
            "Archive:  rus-eng.zip\n",
            "  inflating: rus-eng/rus.txt         \n",
            "  inflating: rus-eng/_about.txt      \n"
          ]
        }
      ],
      "source": [
        "!mkdir rus-eng\n",
        "!unzip rus-eng.zip -d rus-eng/"
      ]
    },
    {
      "cell_type": "code",
      "execution_count": 4,
      "metadata": {
        "colab": {
          "base_uri": "https://localhost:8080/"
        },
        "id": "7o5L92efMMhf",
        "outputId": "ae36caf5-8256-44d6-8571-b098fbb7b348"
      },
      "outputs": [
        {
          "output_type": "stream",
          "name": "stdout",
          "text": [
            "total 71M\n",
            "drwxr-xr-x 2 root root 4.0K Jun 30 14:13 .\n",
            "drwxr-xr-x 1 root root 4.0K Jun 30 14:13 ..\n",
            "-rw-r--r-- 1 root root 1.5K May  2 01:29 _about.txt\n",
            "-rw-r--r-- 1 root root  71M May  2 01:29 rus.txt\n"
          ]
        }
      ],
      "source": [
        "!ls /content/rus-eng/ -lah"
      ]
    },
    {
      "cell_type": "code",
      "execution_count": 5,
      "metadata": {
        "id": "kRVATYOgJs1b"
      },
      "outputs": [],
      "source": [
        "# Download the file\n",
        "path_to_file = \"/content/rus-eng/rus.txt\""
      ]
    },
    {
      "cell_type": "code",
      "execution_count": 6,
      "metadata": {
        "id": "rd0jw-eC3jEh"
      },
      "outputs": [],
      "source": [
        "def preprocess_sentence(w):\n",
        "  w = w.lower().strip()\n",
        "\n",
        "  # creating a space between a word and the punctuation following it\n",
        "  # eg: \"he is a boy.\" => \"he is a boy .\"\n",
        "  # Reference:- https://stackoverflow.com/questions/3645931/python-padding-punctuation-with-white-spaces-keeping-punctuation\n",
        "  w = re.sub(r\"([?.!,])\", r\" \\1 \", w)\n",
        "  w = re.sub(r'[\" \"]+', \" \", w)\n",
        "\n",
        "  # replacing everything with space except (a-z, A-Z, \".\", \"?\", \"!\", \",\")\n",
        "  w = re.sub(r\"[^a-zA-Zа-яА-Я?.!,']+\", \" \", w)\n",
        "\n",
        "  w = w.strip()\n",
        "\n",
        "  # adding a start and an end token to the sentence\n",
        "  # so that the model know when to start and stop predicting.\n",
        "  w = '<start> ' + w + ' <end>'\n",
        "  return w"
      ]
    },
    {
      "cell_type": "code",
      "execution_count": 7,
      "metadata": {
        "colab": {
          "base_uri": "https://localhost:8080/",
          "height": 36
        },
        "id": "yV9lZXQXNbnH",
        "outputId": "ae8fd279-1f6b-4ac7-e039-22dae7d87bf1"
      },
      "outputs": [
        {
          "output_type": "execute_result",
          "data": {
            "text/plain": [
              "\"<start> i can't go . <end>\""
            ],
            "application/vnd.google.colaboratory.intrinsic+json": {
              "type": "string"
            }
          },
          "metadata": {},
          "execution_count": 7
        }
      ],
      "source": [
        "preprocess_sentence(\"I can't go.\")"
      ]
    },
    {
      "cell_type": "code",
      "execution_count": 8,
      "metadata": {
        "id": "OHn4Dct23jEm"
      },
      "outputs": [],
      "source": [
        "# 1. Remove the accents\n",
        "# 2. Clean the sentences\n",
        "# 3. Return word pairs in the format: [ENG, RUS]\n",
        "def create_dataset(path, num_examples):\n",
        "  lines = io.open(path, encoding='UTF-8').read().strip().split('\\n')\n",
        "\n",
        "  word_pairs = [[preprocess_sentence(w) for w in l.split('\\t')[:2]]  for l in lines[:num_examples]]\n",
        "\n",
        "  return zip(*word_pairs)"
      ]
    },
    {
      "cell_type": "code",
      "execution_count": 9,
      "metadata": {
        "colab": {
          "base_uri": "https://localhost:8080/"
        },
        "id": "cTbSbBz55QtF",
        "outputId": "3bd17deb-4277-4d66-bc0d-7db37abc32e9"
      },
      "outputs": [
        {
          "output_type": "stream",
          "name": "stdout",
          "text": [
            "<start> doubtless there exists in this world precisely the right woman for any given man to marry and vice versa but when you consider that a human being has the opportunity of being acquainted with only a few hundred people , and out of the few hundred that there are but a dozen or less whom he knows intimately , and out of the dozen , one or two friends at most , it will easily be seen , when we remember the number of millions who inhabit this world , that probably , since the earth was created , the right man has never yet met the right woman . <end>\n",
            "<start> несомненно , для каждого мужчины в этом мире где то есть подходящая женщина , которая может стать ему женой , обратное верно и для женщин . но если учесть , что у человека может быть максимум несколько сотен знакомых , из которых лишь дюжина , а то и меньше , тех , кого он знает близко , а из этой дюжины у него один или от силы два друга , то можно легко увидеть , что с уч том миллионов живущих на земле людей , ни один подходящий мужчина , возможно , ещ не встретил подходящую женщину . <end>\n"
          ]
        }
      ],
      "source": [
        "en, ru = create_dataset(path_to_file, None)\n",
        "print(en[-1])\n",
        "print(ru[-1])"
      ]
    },
    {
      "cell_type": "code",
      "execution_count": 10,
      "metadata": {
        "id": "bIOn8RCNDJXG"
      },
      "outputs": [],
      "source": [
        "def tokenize(lang):\n",
        "  lang_tokenizer = tf.keras.preprocessing.text.Tokenizer(\n",
        "      filters='')\n",
        "  lang_tokenizer.fit_on_texts(lang)\n",
        "\n",
        "  tensor = lang_tokenizer.texts_to_sequences(lang)\n",
        "\n",
        "  tensor = tf.keras.preprocessing.sequence.pad_sequences(tensor,\n",
        "                                                         padding='post')\n",
        "\n",
        "  return tensor, lang_tokenizer"
      ]
    },
    {
      "cell_type": "code",
      "execution_count": 11,
      "metadata": {
        "id": "eAY9k49G3jE_"
      },
      "outputs": [],
      "source": [
        "def load_dataset(path, num_examples=None):\n",
        "  # creating cleaned input, output pairs\n",
        "  targ_lang, inp_lang = create_dataset(path, num_examples)\n",
        "\n",
        "  input_tensor, inp_lang_tokenizer = tokenize(inp_lang)\n",
        "  target_tensor, targ_lang_tokenizer = tokenize(targ_lang)\n",
        "\n",
        "  return input_tensor, target_tensor, inp_lang_tokenizer, targ_lang_tokenizer"
      ]
    },
    {
      "cell_type": "code",
      "execution_count": 12,
      "metadata": {
        "colab": {
          "base_uri": "https://localhost:8080/"
        },
        "id": "C8j9g9AnIeZV",
        "outputId": "d812c6f3-3a7a-4b64-c53c-5459f16894af"
      },
      "outputs": [
        {
          "output_type": "execute_result",
          "data": {
            "text/plain": [
              "(444587, 444587)"
            ]
          },
          "metadata": {},
          "execution_count": 12
        }
      ],
      "source": [
        "len(en), len(ru)"
      ]
    },
    {
      "cell_type": "code",
      "execution_count": 13,
      "metadata": {
        "id": "cnxC7q-j3jFD"
      },
      "outputs": [],
      "source": [
        "# Try experimenting with the size of that dataset\n",
        "num_examples = 100000\n",
        "input_tensor, target_tensor, inp_lang, targ_lang = load_dataset(path_to_file, num_examples)\n",
        "\n",
        "# Calculate max_length of the target tensors\n",
        "max_length_targ, max_length_inp = target_tensor.shape[1], input_tensor.shape[1]"
      ]
    },
    {
      "cell_type": "code",
      "execution_count": 14,
      "metadata": {
        "colab": {
          "base_uri": "https://localhost:8080/"
        },
        "id": "4QILQkOs3jFG",
        "outputId": "671fa238-f648-4133-b93b-b74f97041dc4"
      },
      "outputs": [
        {
          "output_type": "stream",
          "name": "stdout",
          "text": [
            "80000 80000 20000 20000\n"
          ]
        }
      ],
      "source": [
        "# Creating training and validation sets using an 80-20 split\n",
        "input_tensor_train, input_tensor_val, target_tensor_train, target_tensor_val = train_test_split(input_tensor, target_tensor, test_size=0.2)\n",
        "\n",
        "# Show length\n",
        "print(len(input_tensor_train), len(target_tensor_train), len(input_tensor_val), len(target_tensor_val))"
      ]
    },
    {
      "cell_type": "code",
      "execution_count": 15,
      "metadata": {
        "id": "lJPmLZGMeD5q"
      },
      "outputs": [],
      "source": [
        "def convert(lang, tensor):\n",
        "  for t in tensor:\n",
        "    if t!=0:\n",
        "      print (\"%d ----> %s\" % (t, lang.index_word[t]))"
      ]
    },
    {
      "cell_type": "code",
      "execution_count": 16,
      "metadata": {
        "colab": {
          "base_uri": "https://localhost:8080/"
        },
        "id": "VXukARTDd7MT",
        "outputId": "1f2b8ff2-5b28-4ba7-e79d-ef025b3b38de"
      },
      "outputs": [
        {
          "output_type": "stream",
          "name": "stdout",
          "text": [
            "Input Language; index to word mapping\n",
            "1 ----> <start>\n",
            "1417 ----> цены\n",
            "16540 ----> взлетели\n",
            "3 ----> .\n",
            "2 ----> <end>\n",
            "\n",
            "Target Language; index to word mapping\n",
            "1 ----> <start>\n",
            "1213 ----> prices\n",
            "25 ----> have\n",
            "4012 ----> soared\n",
            "3 ----> .\n",
            "2 ----> <end>\n"
          ]
        }
      ],
      "source": [
        "print (\"Input Language; index to word mapping\")\n",
        "convert(inp_lang, input_tensor_train[0])\n",
        "print ()\n",
        "print (\"Target Language; index to word mapping\")\n",
        "convert(targ_lang, target_tensor_train[0])"
      ]
    },
    {
      "cell_type": "code",
      "execution_count": 17,
      "metadata": {
        "id": "TqHsArVZ3jFS"
      },
      "outputs": [],
      "source": [
        "BUFFER_SIZE = len(input_tensor_train)\n",
        "BATCH_SIZE = 64\n",
        "steps_per_epoch = len(input_tensor_train)//BATCH_SIZE\n",
        "embedding_dim = 256\n",
        "units = 1024\n",
        "vocab_inp_size = len(inp_lang.word_index)+1\n",
        "vocab_tar_size = len(targ_lang.word_index)+1\n",
        "\n",
        "dataset = tf.data.Dataset.from_tensor_slices((input_tensor_train, target_tensor_train)).shuffle(BUFFER_SIZE)\n",
        "dataset = dataset.batch(BATCH_SIZE, drop_remainder=True)"
      ]
    },
    {
      "cell_type": "code",
      "execution_count": 18,
      "metadata": {
        "colab": {
          "base_uri": "https://localhost:8080/"
        },
        "id": "qc6-NK1GtWQt",
        "outputId": "7f94f42f-bc0b-4b3f-d1d3-0637a7f64545"
      },
      "outputs": [
        {
          "output_type": "execute_result",
          "data": {
            "text/plain": [
              "(TensorShape([64, 15]), TensorShape([64, 11]))"
            ]
          },
          "metadata": {},
          "execution_count": 18
        }
      ],
      "source": [
        "example_input_batch, example_target_batch = next(iter(dataset))\n",
        "example_input_batch.shape, example_target_batch.shape"
      ]
    },
    {
      "cell_type": "code",
      "execution_count": 19,
      "metadata": {
        "id": "nZ2rI24i3jFg"
      },
      "outputs": [],
      "source": [
        "class Encoder(tf.keras.Model):\n",
        "  def __init__(self, vocab_size, embedding_dim, enc_units, batch_sz):\n",
        "    super(Encoder, self).__init__()\n",
        "    self.batch_sz = batch_sz\n",
        "    self.enc_units = enc_units\n",
        "    self.embedding = tf.keras.layers.Embedding(vocab_size, embedding_dim)\n",
        "    self.gru = tf.keras.layers.GRU(self.enc_units,\n",
        "                                   return_sequences=True,\n",
        "                                   return_state=True,\n",
        "                                   recurrent_initializer='glorot_uniform')\n",
        "\n",
        "  def call(self, x, hidden):\n",
        "    x = self.embedding(x)\n",
        "    output, state = self.gru(x, initial_state = hidden)\n",
        "    return output, state\n",
        "\n",
        "  def initialize_hidden_state(self):\n",
        "    return tf.zeros((self.batch_sz, self.enc_units))"
      ]
    },
    {
      "cell_type": "code",
      "execution_count": 20,
      "metadata": {
        "colab": {
          "base_uri": "https://localhost:8080/"
        },
        "id": "60gSVh05Jl6l",
        "outputId": "2f500659-62f5-4cdc-a113-eaca2c0573e7"
      },
      "outputs": [
        {
          "output_type": "stream",
          "name": "stdout",
          "text": [
            "Encoder output shape: (batch size, sequence length, units) (64, 15, 1024)\n",
            "Encoder Hidden state shape: (batch size, units) (64, 1024)\n"
          ]
        }
      ],
      "source": [
        "encoder = Encoder(vocab_inp_size, embedding_dim, units, BATCH_SIZE)\n",
        "\n",
        "# sample input\n",
        "sample_hidden = encoder.initialize_hidden_state()\n",
        "sample_output, sample_hidden = encoder(example_input_batch, sample_hidden)\n",
        "print ('Encoder output shape: (batch size, sequence length, units) {}'.format(sample_output.shape))\n",
        "print ('Encoder Hidden state shape: (batch size, units) {}'.format(sample_hidden.shape))"
      ]
    },
    {
      "cell_type": "code",
      "execution_count": 21,
      "metadata": {
        "id": "YTyhL28Niqk1"
      },
      "outputs": [],
      "source": [
        "class BahdanauAttention(tf.keras.layers.Layer):\n",
        "  def __init__(self, units):\n",
        "    super(BahdanauAttention, self).__init__()\n",
        "    self.W1 = tf.keras.layers.Dense(units)\n",
        "    self.W2 = tf.keras.layers.Dense(units)\n",
        "    self.V = tf.keras.layers.Dense(1)\n",
        "\n",
        "  def call(self, query, values):\n",
        "    # query hidden state shape == (batch_size, hidden size)\n",
        "    # query_with_time_axis shape == (batch_size, 1, hidden size)\n",
        "    # values shape == (batch_size, max_len, hidden size)\n",
        "    # we are doing this to broadcast addition along the time axis to calculate the score\n",
        "    query_with_time_axis = tf.expand_dims(query, 1)\n",
        "\n",
        "    # score shape == (batch_size, max_length, 1)\n",
        "    # we get 1 at the last axis because we are applying score to self.V\n",
        "    # the shape of the tensor before applying self.V is (batch_size, max_length, units)\n",
        "    score = self.V(tf.nn.tanh(\n",
        "        self.W1(query_with_time_axis) + self.W2(values)))\n",
        "\n",
        "    # attention_weights shape == (batch_size, max_length, 1)\n",
        "    attention_weights = tf.nn.softmax(score, axis=1)\n",
        "\n",
        "    # context_vector shape after sum == (batch_size, hidden_size)\n",
        "    context_vector = attention_weights * values\n",
        "    context_vector = tf.reduce_sum(context_vector, axis=1)\n",
        "\n",
        "    return context_vector, attention_weights"
      ]
    },
    {
      "cell_type": "code",
      "execution_count": 22,
      "metadata": {
        "colab": {
          "base_uri": "https://localhost:8080/"
        },
        "id": "XUqssWcci1XJ",
        "outputId": "91e4b352-8326-4967-fe10-178786968840"
      },
      "outputs": [
        {
          "output_type": "stream",
          "name": "stdout",
          "text": [
            "Attention result shape: (batch size, units) (64, 1024)\n",
            "Attention weights shape: (batch_size, sequence_length, 1) (64, 15, 1)\n"
          ]
        }
      ],
      "source": [
        "attention_layer = BahdanauAttention(10)\n",
        "attention_result, attention_weights = attention_layer(sample_hidden, sample_output)\n",
        "\n",
        "print(\"Attention result shape: (batch size, units) {}\".format(attention_result.shape))\n",
        "print(\"Attention weights shape: (batch_size, sequence_length, 1) {}\".format(attention_weights.shape))"
      ]
    },
    {
      "cell_type": "code",
      "execution_count": 23,
      "metadata": {
        "id": "yJ_B3mhW3jFk"
      },
      "outputs": [],
      "source": [
        "class Decoder(tf.keras.Model):\n",
        "  def __init__(self, vocab_size, embedding_dim, dec_units, batch_sz):\n",
        "    super(Decoder, self).__init__()\n",
        "    self.batch_sz = batch_sz\n",
        "    self.dec_units = dec_units\n",
        "    self.embedding = tf.keras.layers.Embedding(vocab_size, embedding_dim)\n",
        "    self.gru = tf.keras.layers.GRU(self.dec_units,\n",
        "                                   return_sequences=True,\n",
        "                                   return_state=True,\n",
        "                                   recurrent_initializer='glorot_uniform')\n",
        "    self.fc = tf.keras.layers.Dense(vocab_size)\n",
        "\n",
        "    # used for attention\n",
        "    self.attention = BahdanauAttention(self.dec_units)\n",
        "\n",
        "  def call(self, x, hidden, enc_output):\n",
        "    # enc_output shape == (batch_size, max_length, hidden_size)\n",
        "    context_vector, attention_weights = self.attention(hidden, enc_output)\n",
        "\n",
        "    # x shape after passing through embedding == (batch_size, 1, embedding_dim)\n",
        "    x = self.embedding(x)\n",
        "\n",
        "    # x shape after concatenation == (batch_size, 1, embedding_dim + hidden_size)\n",
        "    x = tf.concat([tf.expand_dims(context_vector, 1), x], axis=-1)\n",
        "\n",
        "    # passing the concatenated vector to the GRU\n",
        "    output, state = self.gru(x)\n",
        "\n",
        "    # output shape == (batch_size * 1, hidden_size)\n",
        "    output = tf.reshape(output, (-1, output.shape[2]))\n",
        "\n",
        "    # output shape == (batch_size, vocab)\n",
        "    x = self.fc(output)\n",
        "\n",
        "    return x, state, attention_weights"
      ]
    },
    {
      "cell_type": "code",
      "execution_count": 24,
      "metadata": {
        "colab": {
          "base_uri": "https://localhost:8080/"
        },
        "id": "P5UY8wko3jFp",
        "outputId": "55677514-58ea-4b22-981d-d43e43c15f57"
      },
      "outputs": [
        {
          "output_type": "stream",
          "name": "stdout",
          "text": [
            "Decoder output shape: (batch_size, vocab size) (64, 7334)\n"
          ]
        }
      ],
      "source": [
        "decoder = Decoder(vocab_tar_size, embedding_dim, units, BATCH_SIZE)\n",
        "\n",
        "sample_decoder_output, _, _ = decoder(tf.random.uniform((BATCH_SIZE, 1)),\n",
        "                                      sample_hidden, sample_output)\n",
        "\n",
        "print ('Decoder output shape: (batch_size, vocab size) {}'.format(sample_decoder_output.shape))"
      ]
    },
    {
      "cell_type": "code",
      "execution_count": 25,
      "metadata": {
        "id": "WmTHr5iV3jFr"
      },
      "outputs": [],
      "source": [
        "optimizer = tf.keras.optimizers.Adam()\n",
        "loss_object = tf.keras.losses.SparseCategoricalCrossentropy(\n",
        "    from_logits=True, reduction='none')\n",
        "\n",
        "def loss_function(real, pred):\n",
        "  mask = tf.math.logical_not(tf.math.equal(real, 0))\n",
        "  loss_ = loss_object(real, pred)\n",
        "\n",
        "  mask = tf.cast(mask, dtype=loss_.dtype)\n",
        "  loss_ *= mask\n",
        "\n",
        "  return tf.reduce_mean(loss_)"
      ]
    },
    {
      "cell_type": "code",
      "execution_count": 26,
      "metadata": {
        "id": "Zj8bXQTgNwrF"
      },
      "outputs": [],
      "source": [
        "checkpoint_dir = './training_attention_checkpoints'\n",
        "checkpoint_prefix = os.path.join(checkpoint_dir, \"ckpt\")\n",
        "checkpoint = tf.train.Checkpoint(optimizer=optimizer,\n",
        "                                 encoder=encoder,\n",
        "                                 decoder=decoder)"
      ]
    },
    {
      "cell_type": "code",
      "execution_count": 27,
      "metadata": {
        "id": "sC9ArXSsVfqn"
      },
      "outputs": [],
      "source": [
        "@tf.function\n",
        "def train_step(inp, targ, enc_hidden):\n",
        "  loss = 0\n",
        "\n",
        "  with tf.GradientTape() as tape:\n",
        "    enc_output, enc_hidden = encoder(inp, enc_hidden)\n",
        "\n",
        "    dec_hidden = enc_hidden\n",
        "\n",
        "    dec_input = tf.expand_dims([targ_lang.word_index['<start>']] * BATCH_SIZE, 1)\n",
        "\n",
        "    # Teacher forcing - feeding the target as the next input\n",
        "    for t in range(1, targ.shape[1]):\n",
        "      # passing enc_output to the decoder\n",
        "      predictions, dec_hidden, _ = decoder(dec_input, dec_hidden, enc_output)\n",
        "\n",
        "      loss += loss_function(targ[:, t], predictions)\n",
        "\n",
        "      # using teacher forcing\n",
        "      dec_input = tf.expand_dims(targ[:, t], 1)\n",
        "\n",
        "  batch_loss = (loss / int(targ.shape[1]))\n",
        "\n",
        "  variables = encoder.trainable_variables + decoder.trainable_variables\n",
        "\n",
        "  gradients = tape.gradient(loss, variables)\n",
        "\n",
        "  optimizer.apply_gradients(zip(gradients, variables))\n",
        "\n",
        "  return batch_loss"
      ]
    },
    {
      "cell_type": "code",
      "execution_count": 28,
      "metadata": {
        "colab": {
          "base_uri": "https://localhost:8080/"
        },
        "id": "ddefjBMa3jF0",
        "outputId": "ddaacb8b-3387-40c0-fb6a-147dd839f760"
      },
      "outputs": [
        {
          "output_type": "stream",
          "name": "stdout",
          "text": [
            "Epoch 1 Batch 0 Loss 4.4499\n",
            "Epoch 1 Batch 100 Loss 2.0266\n",
            "Epoch 1 Batch 200 Loss 2.0175\n",
            "Epoch 1 Batch 300 Loss 1.7723\n",
            "Epoch 1 Batch 400 Loss 1.5660\n",
            "Epoch 1 Batch 500 Loss 1.4618\n",
            "Epoch 1 Batch 600 Loss 1.4186\n",
            "Epoch 1 Batch 700 Loss 1.3235\n",
            "Epoch 1 Batch 800 Loss 1.2351\n",
            "Epoch 1 Batch 900 Loss 1.0942\n",
            "Epoch 1 Batch 1000 Loss 1.0395\n",
            "Epoch 1 Batch 1100 Loss 1.0464\n",
            "Epoch 1 Batch 1200 Loss 0.9241\n",
            "Epoch 1 Loss 1.4830\n",
            "Time taken for 1 epoch 112.7906482219696 sec\n",
            "\n",
            "Epoch 2 Batch 0 Loss 0.7964\n",
            "Epoch 2 Batch 100 Loss 0.8211\n",
            "Epoch 2 Batch 200 Loss 0.7475\n",
            "Epoch 2 Batch 300 Loss 0.7258\n",
            "Epoch 2 Batch 400 Loss 0.7116\n",
            "Epoch 2 Batch 500 Loss 0.5071\n",
            "Epoch 2 Batch 600 Loss 0.5697\n",
            "Epoch 2 Batch 700 Loss 0.7505\n",
            "Epoch 2 Batch 800 Loss 0.5873\n",
            "Epoch 2 Batch 900 Loss 0.4701\n",
            "Epoch 2 Batch 1000 Loss 0.5769\n",
            "Epoch 2 Batch 1100 Loss 0.4249\n",
            "Epoch 2 Batch 1200 Loss 0.5497\n",
            "Epoch 2 Loss 0.6337\n",
            "Time taken for 1 epoch 100.37463402748108 sec\n",
            "\n",
            "Epoch 3 Batch 0 Loss 0.3341\n",
            "Epoch 3 Batch 100 Loss 0.3069\n",
            "Epoch 3 Batch 200 Loss 0.3292\n",
            "Epoch 3 Batch 300 Loss 0.3552\n",
            "Epoch 3 Batch 400 Loss 0.3462\n",
            "Epoch 3 Batch 500 Loss 0.2622\n",
            "Epoch 3 Batch 600 Loss 0.3210\n",
            "Epoch 3 Batch 700 Loss 0.3899\n",
            "Epoch 3 Batch 800 Loss 0.3731\n",
            "Epoch 3 Batch 900 Loss 0.3087\n",
            "Epoch 3 Batch 1000 Loss 0.3520\n",
            "Epoch 3 Batch 1100 Loss 0.3517\n",
            "Epoch 3 Batch 1200 Loss 0.3456\n",
            "Epoch 3 Loss 0.3322\n",
            "Time taken for 1 epoch 99.43677568435669 sec\n",
            "\n",
            "Epoch 4 Batch 0 Loss 0.2247\n",
            "Epoch 4 Batch 100 Loss 0.2006\n",
            "Epoch 4 Batch 200 Loss 0.1721\n",
            "Epoch 4 Batch 300 Loss 0.2349\n",
            "Epoch 4 Batch 400 Loss 0.1685\n",
            "Epoch 4 Batch 500 Loss 0.2035\n",
            "Epoch 4 Batch 600 Loss 0.1878\n",
            "Epoch 4 Batch 700 Loss 0.1617\n",
            "Epoch 4 Batch 800 Loss 0.1554\n",
            "Epoch 4 Batch 900 Loss 0.1951\n",
            "Epoch 4 Batch 1000 Loss 0.1842\n",
            "Epoch 4 Batch 1100 Loss 0.1831\n",
            "Epoch 4 Batch 1200 Loss 0.2195\n",
            "Epoch 4 Loss 0.2062\n",
            "Time taken for 1 epoch 100.11808586120605 sec\n",
            "\n",
            "Epoch 5 Batch 0 Loss 0.1384\n",
            "Epoch 5 Batch 100 Loss 0.0921\n",
            "Epoch 5 Batch 200 Loss 0.1153\n",
            "Epoch 5 Batch 300 Loss 0.1768\n",
            "Epoch 5 Batch 400 Loss 0.1019\n",
            "Epoch 5 Batch 500 Loss 0.1239\n",
            "Epoch 5 Batch 600 Loss 0.1615\n",
            "Epoch 5 Batch 700 Loss 0.1668\n",
            "Epoch 5 Batch 800 Loss 0.1378\n",
            "Epoch 5 Batch 900 Loss 0.1599\n",
            "Epoch 5 Batch 1000 Loss 0.1487\n",
            "Epoch 5 Batch 1100 Loss 0.1780\n",
            "Epoch 5 Batch 1200 Loss 0.1184\n",
            "Epoch 5 Loss 0.1476\n",
            "Time taken for 1 epoch 99.51996898651123 sec\n",
            "\n",
            "Epoch 6 Batch 0 Loss 0.1103\n",
            "Epoch 6 Batch 100 Loss 0.0992\n",
            "Epoch 6 Batch 200 Loss 0.0981\n",
            "Epoch 6 Batch 300 Loss 0.1312\n",
            "Epoch 6 Batch 400 Loss 0.1093\n",
            "Epoch 6 Batch 500 Loss 0.1211\n",
            "Epoch 6 Batch 600 Loss 0.1043\n",
            "Epoch 6 Batch 700 Loss 0.0901\n",
            "Epoch 6 Batch 800 Loss 0.0994\n",
            "Epoch 6 Batch 900 Loss 0.1294\n",
            "Epoch 6 Batch 1000 Loss 0.1088\n",
            "Epoch 6 Batch 1100 Loss 0.1385\n",
            "Epoch 6 Batch 1200 Loss 0.1169\n",
            "Epoch 6 Loss 0.1144\n",
            "Time taken for 1 epoch 100.34540295600891 sec\n",
            "\n",
            "Epoch 7 Batch 0 Loss 0.0943\n",
            "Epoch 7 Batch 100 Loss 0.0864\n",
            "Epoch 7 Batch 200 Loss 0.1066\n",
            "Epoch 7 Batch 300 Loss 0.0871\n",
            "Epoch 7 Batch 400 Loss 0.0927\n",
            "Epoch 7 Batch 500 Loss 0.1098\n",
            "Epoch 7 Batch 600 Loss 0.0512\n",
            "Epoch 7 Batch 700 Loss 0.0979\n",
            "Epoch 7 Batch 800 Loss 0.0932\n",
            "Epoch 7 Batch 900 Loss 0.1238\n",
            "Epoch 7 Batch 1000 Loss 0.1381\n",
            "Epoch 7 Batch 1100 Loss 0.1143\n",
            "Epoch 7 Batch 1200 Loss 0.0777\n",
            "Epoch 7 Loss 0.0991\n",
            "Time taken for 1 epoch 99.43597316741943 sec\n",
            "\n",
            "Epoch 8 Batch 0 Loss 0.0853\n",
            "Epoch 8 Batch 100 Loss 0.0992\n",
            "Epoch 8 Batch 200 Loss 0.0680\n",
            "Epoch 8 Batch 300 Loss 0.0596\n",
            "Epoch 8 Batch 400 Loss 0.1312\n",
            "Epoch 8 Batch 500 Loss 0.0991\n",
            "Epoch 8 Batch 600 Loss 0.0900\n",
            "Epoch 8 Batch 700 Loss 0.0918\n",
            "Epoch 8 Batch 800 Loss 0.0958\n",
            "Epoch 8 Batch 900 Loss 0.0898\n",
            "Epoch 8 Batch 1000 Loss 0.0691\n",
            "Epoch 8 Batch 1100 Loss 0.0685\n",
            "Epoch 8 Batch 1200 Loss 0.1218\n",
            "Epoch 8 Loss 0.0878\n",
            "Time taken for 1 epoch 100.00240898132324 sec\n",
            "\n",
            "Epoch 9 Batch 0 Loss 0.0526\n",
            "Epoch 9 Batch 100 Loss 0.0585\n",
            "Epoch 9 Batch 200 Loss 0.0853\n",
            "Epoch 9 Batch 300 Loss 0.0612\n",
            "Epoch 9 Batch 400 Loss 0.0519\n",
            "Epoch 9 Batch 500 Loss 0.1249\n",
            "Epoch 9 Batch 600 Loss 0.1109\n",
            "Epoch 9 Batch 700 Loss 0.0954\n",
            "Epoch 9 Batch 800 Loss 0.0978\n",
            "Epoch 9 Batch 900 Loss 0.0650\n",
            "Epoch 9 Batch 1000 Loss 0.0669\n",
            "Epoch 9 Batch 1100 Loss 0.0815\n",
            "Epoch 9 Batch 1200 Loss 0.0751\n",
            "Epoch 9 Loss 0.0809\n",
            "Time taken for 1 epoch 99.32775020599365 sec\n",
            "\n",
            "Epoch 10 Batch 0 Loss 0.0554\n",
            "Epoch 10 Batch 100 Loss 0.0631\n",
            "Epoch 10 Batch 200 Loss 0.1169\n",
            "Epoch 10 Batch 300 Loss 0.0825\n",
            "Epoch 10 Batch 400 Loss 0.0418\n",
            "Epoch 10 Batch 500 Loss 0.0764\n",
            "Epoch 10 Batch 600 Loss 0.0923\n",
            "Epoch 10 Batch 700 Loss 0.0833\n",
            "Epoch 10 Batch 800 Loss 0.0960\n",
            "Epoch 10 Batch 900 Loss 0.0765\n",
            "Epoch 10 Batch 1000 Loss 0.0743\n",
            "Epoch 10 Batch 1100 Loss 0.0684\n",
            "Epoch 10 Batch 1200 Loss 0.0827\n",
            "Epoch 10 Loss 0.0752\n",
            "Time taken for 1 epoch 99.96797680854797 sec\n",
            "\n",
            "Epoch 11 Batch 0 Loss 0.0595\n",
            "Epoch 11 Batch 100 Loss 0.0367\n",
            "Epoch 11 Batch 200 Loss 0.0625\n",
            "Epoch 11 Batch 300 Loss 0.0819\n",
            "Epoch 11 Batch 400 Loss 0.0909\n",
            "Epoch 11 Batch 500 Loss 0.0986\n",
            "Epoch 11 Batch 600 Loss 0.0956\n",
            "Epoch 11 Batch 700 Loss 0.0477\n",
            "Epoch 11 Batch 800 Loss 0.0616\n",
            "Epoch 11 Batch 900 Loss 0.0742\n",
            "Epoch 11 Batch 1000 Loss 0.1060\n",
            "Epoch 11 Batch 1100 Loss 0.0595\n",
            "Epoch 11 Batch 1200 Loss 0.0837\n",
            "Epoch 11 Loss 0.0714\n",
            "Time taken for 1 epoch 99.2769455909729 sec\n",
            "\n",
            "Epoch 12 Batch 0 Loss 0.0535\n",
            "Epoch 12 Batch 100 Loss 0.0631\n",
            "Epoch 12 Batch 200 Loss 0.0477\n",
            "Epoch 12 Batch 300 Loss 0.0676\n",
            "Epoch 12 Batch 400 Loss 0.0396\n",
            "Epoch 12 Batch 500 Loss 0.0631\n",
            "Epoch 12 Batch 600 Loss 0.0805\n",
            "Epoch 12 Batch 700 Loss 0.0661\n",
            "Epoch 12 Batch 800 Loss 0.0641\n",
            "Epoch 12 Batch 900 Loss 0.0829\n",
            "Epoch 12 Batch 1000 Loss 0.0659\n",
            "Epoch 12 Batch 1100 Loss 0.0675\n",
            "Epoch 12 Batch 1200 Loss 0.0821\n",
            "Epoch 12 Loss 0.0680\n",
            "Time taken for 1 epoch 100.00109362602234 sec\n",
            "\n",
            "Epoch 13 Batch 0 Loss 0.0914\n",
            "Epoch 13 Batch 100 Loss 0.0702\n",
            "Epoch 13 Batch 200 Loss 0.0525\n",
            "Epoch 13 Batch 300 Loss 0.0451\n",
            "Epoch 13 Batch 400 Loss 0.0685\n",
            "Epoch 13 Batch 500 Loss 0.0632\n",
            "Epoch 13 Batch 600 Loss 0.0697\n",
            "Epoch 13 Batch 700 Loss 0.0482\n",
            "Epoch 13 Batch 800 Loss 0.1151\n",
            "Epoch 13 Batch 900 Loss 0.0589\n",
            "Epoch 13 Batch 1000 Loss 0.0466\n",
            "Epoch 13 Batch 1100 Loss 0.0425\n",
            "Epoch 13 Batch 1200 Loss 0.0680\n",
            "Epoch 13 Loss 0.0657\n",
            "Time taken for 1 epoch 99.39579033851624 sec\n",
            "\n",
            "Epoch 14 Batch 0 Loss 0.0683\n",
            "Epoch 14 Batch 100 Loss 0.0687\n",
            "Epoch 14 Batch 200 Loss 0.0778\n",
            "Epoch 14 Batch 300 Loss 0.0536\n",
            "Epoch 14 Batch 400 Loss 0.0512\n",
            "Epoch 14 Batch 500 Loss 0.0556\n",
            "Epoch 14 Batch 600 Loss 0.0932\n",
            "Epoch 14 Batch 700 Loss 0.0527\n",
            "Epoch 14 Batch 800 Loss 0.0737\n",
            "Epoch 14 Batch 900 Loss 0.0668\n",
            "Epoch 14 Batch 1000 Loss 0.0566\n",
            "Epoch 14 Batch 1100 Loss 0.1012\n",
            "Epoch 14 Batch 1200 Loss 0.0379\n",
            "Epoch 14 Loss 0.0631\n",
            "Time taken for 1 epoch 100.08407235145569 sec\n",
            "\n",
            "Epoch 15 Batch 0 Loss 0.0591\n",
            "Epoch 15 Batch 100 Loss 0.0422\n",
            "Epoch 15 Batch 200 Loss 0.0614\n",
            "Epoch 15 Batch 300 Loss 0.0567\n",
            "Epoch 15 Batch 400 Loss 0.0382\n",
            "Epoch 15 Batch 500 Loss 0.0466\n",
            "Epoch 15 Batch 600 Loss 0.0529\n",
            "Epoch 15 Batch 700 Loss 0.0645\n",
            "Epoch 15 Batch 800 Loss 0.0396\n",
            "Epoch 15 Batch 900 Loss 0.0673\n",
            "Epoch 15 Batch 1000 Loss 0.0517\n",
            "Epoch 15 Batch 1100 Loss 0.0700\n",
            "Epoch 15 Batch 1200 Loss 0.0983\n",
            "Epoch 15 Loss 0.0612\n",
            "Time taken for 1 epoch 99.49937272071838 sec\n",
            "\n",
            "Epoch 16 Batch 0 Loss 0.0375\n",
            "Epoch 16 Batch 100 Loss 0.0606\n",
            "Epoch 16 Batch 200 Loss 0.0687\n",
            "Epoch 16 Batch 300 Loss 0.0507\n",
            "Epoch 16 Batch 400 Loss 0.0616\n",
            "Epoch 16 Batch 500 Loss 0.0714\n",
            "Epoch 16 Batch 600 Loss 0.0653\n",
            "Epoch 16 Batch 700 Loss 0.0621\n",
            "Epoch 16 Batch 800 Loss 0.0603\n",
            "Epoch 16 Batch 900 Loss 0.0616\n",
            "Epoch 16 Batch 1000 Loss 0.0489\n",
            "Epoch 16 Batch 1100 Loss 0.0614\n",
            "Epoch 16 Batch 1200 Loss 0.0484\n",
            "Epoch 16 Loss 0.0595\n",
            "Time taken for 1 epoch 100.26667380332947 sec\n",
            "\n",
            "Epoch 17 Batch 0 Loss 0.0499\n",
            "Epoch 17 Batch 100 Loss 0.0471\n",
            "Epoch 17 Batch 200 Loss 0.0820\n",
            "Epoch 17 Batch 300 Loss 0.0609\n",
            "Epoch 17 Batch 400 Loss 0.0658\n",
            "Epoch 17 Batch 500 Loss 0.0694\n",
            "Epoch 17 Batch 600 Loss 0.0792\n",
            "Epoch 17 Batch 700 Loss 0.0626\n",
            "Epoch 17 Batch 800 Loss 0.0654\n",
            "Epoch 17 Batch 900 Loss 0.0496\n",
            "Epoch 17 Batch 1000 Loss 0.0734\n",
            "Epoch 17 Batch 1100 Loss 0.0889\n",
            "Epoch 17 Batch 1200 Loss 0.0404\n",
            "Epoch 17 Loss 0.0579\n",
            "Time taken for 1 epoch 99.3856189250946 sec\n",
            "\n",
            "Epoch 18 Batch 0 Loss 0.0470\n",
            "Epoch 18 Batch 100 Loss 0.0373\n",
            "Epoch 18 Batch 200 Loss 0.0474\n",
            "Epoch 18 Batch 300 Loss 0.0247\n",
            "Epoch 18 Batch 400 Loss 0.0590\n",
            "Epoch 18 Batch 500 Loss 0.0738\n",
            "Epoch 18 Batch 600 Loss 0.0388\n",
            "Epoch 18 Batch 700 Loss 0.0618\n",
            "Epoch 18 Batch 800 Loss 0.0463\n",
            "Epoch 18 Batch 900 Loss 0.0430\n",
            "Epoch 18 Batch 1000 Loss 0.0445\n",
            "Epoch 18 Batch 1100 Loss 0.0427\n",
            "Epoch 18 Batch 1200 Loss 0.0943\n",
            "Epoch 18 Loss 0.0556\n",
            "Time taken for 1 epoch 100.06302428245544 sec\n",
            "\n",
            "Epoch 19 Batch 0 Loss 0.0377\n",
            "Epoch 19 Batch 100 Loss 0.0867\n",
            "Epoch 19 Batch 200 Loss 0.0596\n",
            "Epoch 19 Batch 300 Loss 0.0441\n",
            "Epoch 19 Batch 400 Loss 0.0433\n",
            "Epoch 19 Batch 500 Loss 0.0417\n",
            "Epoch 19 Batch 600 Loss 0.0296\n",
            "Epoch 19 Batch 700 Loss 0.0695\n",
            "Epoch 19 Batch 800 Loss 0.0414\n",
            "Epoch 19 Batch 900 Loss 0.0640\n",
            "Epoch 19 Batch 1000 Loss 0.0612\n",
            "Epoch 19 Batch 1100 Loss 0.0584\n",
            "Epoch 19 Batch 1200 Loss 0.0557\n",
            "Epoch 19 Loss 0.0539\n",
            "Time taken for 1 epoch 99.22092890739441 sec\n",
            "\n",
            "Epoch 20 Batch 0 Loss 0.0583\n",
            "Epoch 20 Batch 100 Loss 0.0281\n",
            "Epoch 20 Batch 200 Loss 0.0439\n",
            "Epoch 20 Batch 300 Loss 0.0371\n",
            "Epoch 20 Batch 400 Loss 0.0405\n",
            "Epoch 20 Batch 500 Loss 0.0592\n",
            "Epoch 20 Batch 600 Loss 0.0615\n",
            "Epoch 20 Batch 700 Loss 0.0634\n",
            "Epoch 20 Batch 800 Loss 0.0724\n",
            "Epoch 20 Batch 900 Loss 0.0533\n",
            "Epoch 20 Batch 1000 Loss 0.0798\n",
            "Epoch 20 Batch 1100 Loss 0.0593\n",
            "Epoch 20 Batch 1200 Loss 0.0601\n",
            "Epoch 20 Loss 0.0544\n",
            "Time taken for 1 epoch 99.98918986320496 sec\n",
            "\n",
            "Epoch 21 Batch 0 Loss 0.0448\n",
            "Epoch 21 Batch 100 Loss 0.0276\n",
            "Epoch 21 Batch 200 Loss 0.0516\n",
            "Epoch 21 Batch 300 Loss 0.0186\n",
            "Epoch 21 Batch 400 Loss 0.0326\n",
            "Epoch 21 Batch 500 Loss 0.0732\n",
            "Epoch 21 Batch 600 Loss 0.0617\n",
            "Epoch 21 Batch 700 Loss 0.0442\n",
            "Epoch 21 Batch 800 Loss 0.0406\n",
            "Epoch 21 Batch 900 Loss 0.0757\n",
            "Epoch 21 Batch 1000 Loss 0.0737\n",
            "Epoch 21 Batch 1100 Loss 0.0690\n",
            "Epoch 21 Batch 1200 Loss 0.0553\n",
            "Epoch 21 Loss 0.0525\n",
            "Time taken for 1 epoch 99.276526927948 sec\n",
            "\n",
            "Epoch 22 Batch 0 Loss 0.0214\n",
            "Epoch 22 Batch 100 Loss 0.0489\n",
            "Epoch 22 Batch 200 Loss 0.0475\n",
            "Epoch 22 Batch 300 Loss 0.0662\n",
            "Epoch 22 Batch 400 Loss 0.0496\n",
            "Epoch 22 Batch 500 Loss 0.0734\n",
            "Epoch 22 Batch 600 Loss 0.0878\n",
            "Epoch 22 Batch 700 Loss 0.0449\n",
            "Epoch 22 Batch 800 Loss 0.0587\n",
            "Epoch 22 Batch 900 Loss 0.0408\n",
            "Epoch 22 Batch 1000 Loss 0.0743\n",
            "Epoch 22 Batch 1100 Loss 0.0495\n",
            "Epoch 22 Batch 1200 Loss 0.0833\n",
            "Epoch 22 Loss 0.0518\n",
            "Time taken for 1 epoch 100.11685991287231 sec\n",
            "\n",
            "Epoch 23 Batch 0 Loss 0.0719\n",
            "Epoch 23 Batch 100 Loss 0.0566\n",
            "Epoch 23 Batch 200 Loss 0.0236\n",
            "Epoch 23 Batch 300 Loss 0.0470\n",
            "Epoch 23 Batch 400 Loss 0.0454\n",
            "Epoch 23 Batch 500 Loss 0.0762\n",
            "Epoch 23 Batch 600 Loss 0.0487\n",
            "Epoch 23 Batch 700 Loss 0.0473\n",
            "Epoch 23 Batch 800 Loss 0.0377\n",
            "Epoch 23 Batch 900 Loss 0.0606\n",
            "Epoch 23 Batch 1000 Loss 0.0548\n",
            "Epoch 23 Batch 1100 Loss 0.0539\n",
            "Epoch 23 Batch 1200 Loss 0.0681\n",
            "Epoch 23 Loss 0.0498\n",
            "Time taken for 1 epoch 99.33677411079407 sec\n",
            "\n",
            "Epoch 24 Batch 0 Loss 0.0494\n",
            "Epoch 24 Batch 100 Loss 0.0390\n",
            "Epoch 24 Batch 200 Loss 0.0503\n",
            "Epoch 24 Batch 300 Loss 0.0546\n",
            "Epoch 24 Batch 400 Loss 0.0354\n",
            "Epoch 24 Batch 500 Loss 0.0711\n",
            "Epoch 24 Batch 600 Loss 0.0732\n",
            "Epoch 24 Batch 700 Loss 0.0653\n",
            "Epoch 24 Batch 800 Loss 0.0336\n",
            "Epoch 24 Batch 900 Loss 0.0632\n",
            "Epoch 24 Batch 1000 Loss 0.0692\n",
            "Epoch 24 Batch 1100 Loss 0.0702\n",
            "Epoch 24 Batch 1200 Loss 0.0605\n",
            "Epoch 24 Loss 0.0495\n",
            "Time taken for 1 epoch 99.81198191642761 sec\n",
            "\n",
            "Epoch 25 Batch 0 Loss 0.0454\n",
            "Epoch 25 Batch 100 Loss 0.0418\n",
            "Epoch 25 Batch 200 Loss 0.0458\n",
            "Epoch 25 Batch 300 Loss 0.0438\n",
            "Epoch 25 Batch 400 Loss 0.0525\n",
            "Epoch 25 Batch 500 Loss 0.0741\n",
            "Epoch 25 Batch 600 Loss 0.0358\n",
            "Epoch 25 Batch 700 Loss 0.0623\n",
            "Epoch 25 Batch 800 Loss 0.0848\n",
            "Epoch 25 Batch 900 Loss 0.0758\n",
            "Epoch 25 Batch 1000 Loss 0.0315\n",
            "Epoch 25 Batch 1100 Loss 0.0591\n",
            "Epoch 25 Batch 1200 Loss 0.0404\n",
            "Epoch 25 Loss 0.0484\n",
            "Time taken for 1 epoch 99.40875196456909 sec\n",
            "\n",
            "Epoch 26 Batch 0 Loss 0.0601\n",
            "Epoch 26 Batch 100 Loss 0.0456\n",
            "Epoch 26 Batch 200 Loss 0.0252\n",
            "Epoch 26 Batch 300 Loss 0.0468\n",
            "Epoch 26 Batch 400 Loss 0.0612\n",
            "Epoch 26 Batch 500 Loss 0.0425\n",
            "Epoch 26 Batch 600 Loss 0.0477\n",
            "Epoch 26 Batch 700 Loss 0.0482\n",
            "Epoch 26 Batch 800 Loss 0.0506\n",
            "Epoch 26 Batch 900 Loss 0.0487\n",
            "Epoch 26 Batch 1000 Loss 0.0512\n",
            "Epoch 26 Batch 1100 Loss 0.0485\n",
            "Epoch 26 Batch 1200 Loss 0.0627\n",
            "Epoch 26 Loss 0.0481\n",
            "Time taken for 1 epoch 100.0969603061676 sec\n",
            "\n",
            "Epoch 27 Batch 0 Loss 0.0360\n",
            "Epoch 27 Batch 100 Loss 0.0386\n",
            "Epoch 27 Batch 200 Loss 0.0277\n",
            "Epoch 27 Batch 300 Loss 0.0321\n",
            "Epoch 27 Batch 400 Loss 0.0594\n",
            "Epoch 27 Batch 500 Loss 0.0446\n",
            "Epoch 27 Batch 600 Loss 0.0329\n",
            "Epoch 27 Batch 700 Loss 0.0427\n",
            "Epoch 27 Batch 800 Loss 0.0409\n",
            "Epoch 27 Batch 900 Loss 0.0742\n",
            "Epoch 27 Batch 1000 Loss 0.0809\n",
            "Epoch 27 Batch 1100 Loss 0.0690\n",
            "Epoch 27 Batch 1200 Loss 0.0283\n",
            "Epoch 27 Loss 0.0467\n",
            "Time taken for 1 epoch 99.25641703605652 sec\n",
            "\n",
            "Epoch 28 Batch 0 Loss 0.0487\n",
            "Epoch 28 Batch 100 Loss 0.0217\n",
            "Epoch 28 Batch 200 Loss 0.0413\n",
            "Epoch 28 Batch 300 Loss 0.0413\n",
            "Epoch 28 Batch 400 Loss 0.0370\n",
            "Epoch 28 Batch 500 Loss 0.0461\n",
            "Epoch 28 Batch 600 Loss 0.0316\n",
            "Epoch 28 Batch 700 Loss 0.0673\n",
            "Epoch 28 Batch 800 Loss 0.0264\n",
            "Epoch 28 Batch 900 Loss 0.0672\n",
            "Epoch 28 Batch 1000 Loss 0.0444\n",
            "Epoch 28 Batch 1100 Loss 0.0404\n",
            "Epoch 28 Batch 1200 Loss 0.0445\n",
            "Epoch 28 Loss 0.0464\n",
            "Time taken for 1 epoch 100.00412607192993 sec\n",
            "\n",
            "Epoch 29 Batch 0 Loss 0.0308\n",
            "Epoch 29 Batch 100 Loss 0.0421\n",
            "Epoch 29 Batch 200 Loss 0.0390\n",
            "Epoch 29 Batch 300 Loss 0.0643\n",
            "Epoch 29 Batch 400 Loss 0.0713\n",
            "Epoch 29 Batch 500 Loss 0.0393\n",
            "Epoch 29 Batch 600 Loss 0.0499\n",
            "Epoch 29 Batch 700 Loss 0.0684\n",
            "Epoch 29 Batch 800 Loss 0.0435\n",
            "Epoch 29 Batch 900 Loss 0.0396\n",
            "Epoch 29 Batch 1000 Loss 0.0380\n",
            "Epoch 29 Batch 1100 Loss 0.0410\n",
            "Epoch 29 Batch 1200 Loss 0.0698\n",
            "Epoch 29 Loss 0.0457\n",
            "Time taken for 1 epoch 99.35701417922974 sec\n",
            "\n",
            "Epoch 30 Batch 0 Loss 0.0540\n",
            "Epoch 30 Batch 100 Loss 0.0448\n",
            "Epoch 30 Batch 200 Loss 0.0359\n",
            "Epoch 30 Batch 300 Loss 0.0468\n",
            "Epoch 30 Batch 400 Loss 0.0292\n",
            "Epoch 30 Batch 500 Loss 0.0331\n",
            "Epoch 30 Batch 600 Loss 0.0559\n",
            "Epoch 30 Batch 700 Loss 0.0372\n",
            "Epoch 30 Batch 800 Loss 0.0871\n",
            "Epoch 30 Batch 900 Loss 0.0408\n",
            "Epoch 30 Batch 1000 Loss 0.0922\n",
            "Epoch 30 Batch 1100 Loss 0.1283\n",
            "Epoch 30 Batch 1200 Loss 0.0654\n",
            "Epoch 30 Loss 0.0448\n",
            "Time taken for 1 epoch 100.05323338508606 sec\n",
            "\n",
            "Epoch 31 Batch 0 Loss 0.0376\n",
            "Epoch 31 Batch 100 Loss 0.0426\n",
            "Epoch 31 Batch 200 Loss 0.0321\n",
            "Epoch 31 Batch 300 Loss 0.0327\n",
            "Epoch 31 Batch 400 Loss 0.0541\n",
            "Epoch 31 Batch 500 Loss 0.0244\n",
            "Epoch 31 Batch 600 Loss 0.0317\n",
            "Epoch 31 Batch 700 Loss 0.0657\n",
            "Epoch 31 Batch 800 Loss 0.0486\n",
            "Epoch 31 Batch 900 Loss 0.0350\n",
            "Epoch 31 Batch 1000 Loss 0.0482\n",
            "Epoch 31 Batch 1100 Loss 0.0359\n",
            "Epoch 31 Batch 1200 Loss 0.0496\n",
            "Epoch 31 Loss 0.0451\n",
            "Time taken for 1 epoch 99.22922921180725 sec\n",
            "\n",
            "Epoch 32 Batch 0 Loss 0.0405\n",
            "Epoch 32 Batch 100 Loss 0.0427\n",
            "Epoch 32 Batch 200 Loss 0.0269\n",
            "Epoch 32 Batch 300 Loss 0.0346\n",
            "Epoch 32 Batch 400 Loss 0.0409\n",
            "Epoch 32 Batch 500 Loss 0.0460\n",
            "Epoch 32 Batch 600 Loss 0.0258\n",
            "Epoch 32 Batch 700 Loss 0.0440\n",
            "Epoch 32 Batch 800 Loss 0.0252\n",
            "Epoch 32 Batch 900 Loss 0.0645\n",
            "Epoch 32 Batch 1000 Loss 0.0535\n",
            "Epoch 32 Batch 1100 Loss 0.0738\n",
            "Epoch 32 Batch 1200 Loss 0.0858\n",
            "Epoch 32 Loss 0.0435\n",
            "Time taken for 1 epoch 99.93619537353516 sec\n",
            "\n",
            "Epoch 33 Batch 0 Loss 0.0461\n",
            "Epoch 33 Batch 200 Loss 0.0545\n",
            "Epoch 33 Batch 300 Loss 0.0336\n",
            "Epoch 33 Batch 400 Loss 0.0417\n",
            "Epoch 33 Batch 500 Loss 0.0328\n",
            "Epoch 33 Batch 600 Loss 0.0431\n",
            "Epoch 33 Batch 700 Loss 0.0319\n",
            "Epoch 33 Batch 800 Loss 0.0404\n",
            "Epoch 33 Batch 900 Loss 0.0350\n",
            "Epoch 33 Batch 1000 Loss 0.0715\n",
            "Epoch 33 Batch 1100 Loss 0.0280\n",
            "Epoch 33 Batch 1200 Loss 0.0674\n",
            "Epoch 33 Loss 0.0434\n",
            "Time taken for 1 epoch 99.31152820587158 sec\n",
            "\n",
            "Epoch 34 Batch 0 Loss 0.0454\n",
            "Epoch 34 Batch 100 Loss 0.0279\n",
            "Epoch 34 Batch 200 Loss 0.0303\n",
            "Epoch 34 Batch 300 Loss 0.0390\n",
            "Epoch 34 Batch 400 Loss 0.0387\n",
            "Epoch 34 Batch 500 Loss 0.0493\n",
            "Epoch 34 Batch 600 Loss 0.0399\n",
            "Epoch 34 Batch 700 Loss 0.0376\n",
            "Epoch 34 Batch 800 Loss 0.0590\n",
            "Epoch 34 Batch 900 Loss 0.0825\n",
            "Epoch 34 Batch 1000 Loss 0.0520\n",
            "Epoch 34 Batch 1100 Loss 0.0512\n",
            "Epoch 34 Batch 1200 Loss 0.0839\n",
            "Epoch 34 Loss 0.0442\n",
            "Time taken for 1 epoch 99.96795392036438 sec\n",
            "\n",
            "Epoch 35 Batch 0 Loss 0.0403\n",
            "Epoch 35 Batch 100 Loss 0.0348\n",
            "Epoch 35 Batch 200 Loss 0.0285\n",
            "Epoch 35 Batch 300 Loss 0.0300\n",
            "Epoch 35 Batch 400 Loss 0.0229\n",
            "Epoch 35 Batch 500 Loss 0.0484\n",
            "Epoch 35 Batch 600 Loss 0.0512\n",
            "Epoch 35 Batch 700 Loss 0.0495\n",
            "Epoch 35 Batch 800 Loss 0.0526\n",
            "Epoch 35 Batch 900 Loss 0.0363\n",
            "Epoch 35 Batch 1000 Loss 0.0438\n",
            "Epoch 35 Batch 1100 Loss 0.0466\n",
            "Epoch 35 Batch 1200 Loss 0.0379\n",
            "Epoch 35 Loss 0.0434\n",
            "Time taken for 1 epoch 99.32733058929443 sec\n",
            "\n",
            "Epoch 36 Batch 0 Loss 0.0318\n",
            "Epoch 36 Batch 100 Loss 0.0328\n",
            "Epoch 36 Batch 200 Loss 0.0420\n",
            "Epoch 36 Batch 300 Loss 0.0474\n",
            "Epoch 36 Batch 400 Loss 0.0554\n",
            "Epoch 36 Batch 500 Loss 0.0431\n",
            "Epoch 36 Batch 600 Loss 0.0408\n",
            "Epoch 36 Batch 700 Loss 0.0315\n",
            "Epoch 36 Batch 800 Loss 0.0435\n",
            "Epoch 36 Batch 900 Loss 0.0413\n",
            "Epoch 36 Batch 1000 Loss 0.0397\n",
            "Epoch 36 Batch 1100 Loss 0.0362\n",
            "Epoch 36 Batch 1200 Loss 0.0392\n",
            "Epoch 36 Loss 0.0418\n",
            "Time taken for 1 epoch 100.14342761039734 sec\n",
            "\n",
            "Epoch 37 Batch 0 Loss 0.0507\n",
            "Epoch 37 Batch 100 Loss 0.0502\n",
            "Epoch 37 Batch 200 Loss 0.0390\n",
            "Epoch 37 Batch 300 Loss 0.0370\n",
            "Epoch 37 Batch 400 Loss 0.0344\n",
            "Epoch 37 Batch 500 Loss 0.0434\n",
            "Epoch 37 Batch 600 Loss 0.0351\n",
            "Epoch 37 Batch 700 Loss 0.0377\n",
            "Epoch 37 Batch 800 Loss 0.0474\n",
            "Epoch 37 Batch 900 Loss 0.0383\n",
            "Epoch 37 Batch 1000 Loss 0.0607\n",
            "Epoch 37 Batch 1100 Loss 0.0642\n",
            "Epoch 37 Batch 1200 Loss 0.0336\n",
            "Epoch 37 Loss 0.0418\n",
            "Time taken for 1 epoch 99.32100510597229 sec\n",
            "\n",
            "Epoch 38 Batch 0 Loss 0.0474\n",
            "Epoch 38 Batch 100 Loss 0.0246\n",
            "Epoch 38 Batch 200 Loss 0.0327\n",
            "Epoch 38 Batch 300 Loss 0.0318\n",
            "Epoch 38 Batch 400 Loss 0.0566\n",
            "Epoch 38 Batch 500 Loss 0.0333\n",
            "Epoch 38 Batch 600 Loss 0.0421\n",
            "Epoch 38 Batch 700 Loss 0.0263\n",
            "Epoch 38 Batch 800 Loss 0.0593\n",
            "Epoch 38 Batch 900 Loss 0.0532\n",
            "Epoch 38 Batch 1000 Loss 0.0557\n",
            "Epoch 38 Batch 1100 Loss 0.0546\n",
            "Epoch 38 Batch 1200 Loss 0.0330\n",
            "Epoch 38 Loss 0.0414\n",
            "Time taken for 1 epoch 100.00829219818115 sec\n",
            "\n",
            "Epoch 39 Batch 0 Loss 0.0392\n",
            "Epoch 39 Batch 100 Loss 0.0415\n",
            "Epoch 39 Batch 200 Loss 0.0316\n",
            "Epoch 39 Batch 300 Loss 0.0294\n",
            "Epoch 39 Batch 400 Loss 0.0397\n",
            "Epoch 39 Batch 500 Loss 0.0494\n",
            "Epoch 39 Batch 600 Loss 0.0460\n",
            "Epoch 39 Batch 700 Loss 0.0453\n",
            "Epoch 39 Batch 800 Loss 0.0332\n",
            "Epoch 39 Batch 900 Loss 0.0474\n",
            "Epoch 39 Batch 1000 Loss 0.0498\n",
            "Epoch 39 Batch 1100 Loss 0.0464\n",
            "Epoch 39 Batch 1200 Loss 0.0729\n",
            "Epoch 39 Loss 0.0412\n",
            "Time taken for 1 epoch 99.25506711006165 sec\n",
            "\n",
            "Epoch 40 Batch 0 Loss 0.0465\n",
            "Epoch 40 Batch 100 Loss 0.0333\n",
            "Epoch 40 Batch 200 Loss 0.0486\n",
            "Epoch 40 Batch 300 Loss 0.0613\n",
            "Epoch 40 Batch 400 Loss 0.0264\n",
            "Epoch 40 Batch 500 Loss 0.0302\n",
            "Epoch 40 Batch 600 Loss 0.0377\n",
            "Epoch 40 Batch 700 Loss 0.0607\n",
            "Epoch 40 Batch 800 Loss 0.0696\n",
            "Epoch 40 Batch 900 Loss 0.0283\n",
            "Epoch 40 Batch 1000 Loss 0.0487\n",
            "Epoch 40 Batch 1100 Loss 0.0694\n",
            "Epoch 40 Batch 1200 Loss 0.0409\n",
            "Epoch 40 Loss 0.0407\n",
            "Time taken for 1 epoch 99.96898221969604 sec\n",
            "\n",
            "Epoch 41 Batch 0 Loss 0.0423\n",
            "Epoch 41 Batch 100 Loss 0.0356\n",
            "Epoch 41 Batch 200 Loss 0.0360\n",
            "Epoch 41 Batch 300 Loss 0.0510\n",
            "Epoch 41 Batch 400 Loss 0.0368\n",
            "Epoch 41 Batch 500 Loss 0.0364\n",
            "Epoch 41 Batch 600 Loss 0.0418\n",
            "Epoch 41 Batch 700 Loss 0.0568\n",
            "Epoch 41 Batch 800 Loss 0.0434\n",
            "Epoch 41 Batch 900 Loss 0.0651\n",
            "Epoch 41 Batch 1000 Loss 0.0478\n",
            "Epoch 41 Batch 1100 Loss 0.0307\n",
            "Epoch 41 Batch 1200 Loss 0.0686\n",
            "Epoch 41 Loss 0.0404\n",
            "Time taken for 1 epoch 99.21239686012268 sec\n",
            "\n",
            "Epoch 42 Batch 0 Loss 0.0137\n",
            "Epoch 42 Batch 100 Loss 0.0121\n",
            "Epoch 42 Batch 200 Loss 0.0297\n",
            "Epoch 42 Batch 300 Loss 0.0497\n",
            "Epoch 42 Batch 400 Loss 0.0651\n",
            "Epoch 42 Batch 500 Loss 0.0302\n",
            "Epoch 42 Batch 600 Loss 0.0339\n",
            "Epoch 42 Batch 700 Loss 0.0558\n",
            "Epoch 42 Batch 800 Loss 0.0466\n",
            "Epoch 42 Batch 900 Loss 0.0598\n",
            "Epoch 42 Batch 1000 Loss 0.0516\n",
            "Epoch 42 Batch 1100 Loss 0.0532\n",
            "Epoch 42 Batch 1200 Loss 0.0249\n",
            "Epoch 42 Loss 0.0426\n",
            "Time taken for 1 epoch 100.11676621437073 sec\n",
            "\n",
            "Epoch 43 Batch 0 Loss 0.0405\n",
            "Epoch 43 Batch 100 Loss 0.0318\n",
            "Epoch 43 Batch 200 Loss 0.0264\n",
            "Epoch 43 Batch 300 Loss 0.0437\n",
            "Epoch 43 Batch 400 Loss 0.0520\n",
            "Epoch 43 Batch 500 Loss 0.0323\n",
            "Epoch 43 Batch 600 Loss 0.0277\n",
            "Epoch 43 Batch 700 Loss 0.0377\n",
            "Epoch 43 Batch 800 Loss 0.0271\n",
            "Epoch 43 Batch 900 Loss 0.0303\n",
            "Epoch 43 Batch 1000 Loss 0.0348\n",
            "Epoch 43 Batch 1100 Loss 0.0464\n",
            "Epoch 43 Batch 1200 Loss 0.0435\n",
            "Epoch 43 Loss 0.0386\n",
            "Time taken for 1 epoch 99.33741545677185 sec\n",
            "\n",
            "Epoch 44 Batch 0 Loss 0.0428\n",
            "Epoch 44 Batch 100 Loss 0.0245\n",
            "Epoch 44 Batch 200 Loss 0.0339\n",
            "Epoch 44 Batch 300 Loss 0.0387\n",
            "Epoch 44 Batch 400 Loss 0.0250\n",
            "Epoch 44 Batch 500 Loss 0.0402\n",
            "Epoch 44 Batch 600 Loss 0.0348\n",
            "Epoch 44 Batch 700 Loss 0.0515\n",
            "Epoch 44 Batch 800 Loss 0.0722\n",
            "Epoch 44 Batch 900 Loss 0.0398\n",
            "Epoch 44 Batch 1000 Loss 0.0551\n",
            "Epoch 44 Batch 1100 Loss 0.0490\n",
            "Epoch 44 Batch 1200 Loss 0.0425\n",
            "Epoch 44 Loss 0.0388\n",
            "Time taken for 1 epoch 100.11197113990784 sec\n",
            "\n",
            "Epoch 45 Batch 0 Loss 0.0244\n",
            "Epoch 45 Batch 100 Loss 0.0412\n",
            "Epoch 45 Batch 200 Loss 0.0356\n",
            "Epoch 45 Batch 300 Loss 0.0433\n",
            "Epoch 45 Batch 400 Loss 0.0342\n",
            "Epoch 45 Batch 500 Loss 0.0324\n",
            "Epoch 45 Batch 600 Loss 0.0264\n",
            "Epoch 45 Batch 700 Loss 0.0444\n",
            "Epoch 45 Batch 800 Loss 0.0530\n",
            "Epoch 45 Batch 900 Loss 0.0402\n",
            "Epoch 45 Batch 1000 Loss 0.0258\n",
            "Epoch 45 Batch 1100 Loss 0.0425\n",
            "Epoch 45 Batch 1200 Loss 0.0417\n",
            "Epoch 45 Loss 0.0395\n",
            "Time taken for 1 epoch 99.36650276184082 sec\n",
            "\n",
            "Epoch 46 Batch 0 Loss 0.0378\n",
            "Epoch 46 Batch 100 Loss 0.0344\n",
            "Epoch 46 Batch 200 Loss 0.0306\n",
            "Epoch 46 Batch 300 Loss 0.0244\n",
            "Epoch 46 Batch 400 Loss 0.0312\n",
            "Epoch 46 Batch 500 Loss 0.0473\n",
            "Epoch 46 Batch 600 Loss 0.0270\n",
            "Epoch 46 Batch 700 Loss 0.0499\n",
            "Epoch 46 Batch 800 Loss 0.0315\n",
            "Epoch 46 Batch 900 Loss 0.0305\n",
            "Epoch 46 Batch 1000 Loss 0.0305\n",
            "Epoch 46 Batch 1100 Loss 0.0553\n",
            "Epoch 46 Batch 1200 Loss 0.0277\n",
            "Epoch 46 Loss 0.0389\n",
            "Time taken for 1 epoch 100.10061383247375 sec\n",
            "\n",
            "Epoch 47 Batch 0 Loss 0.0274\n",
            "Epoch 47 Batch 100 Loss 0.0549\n",
            "Epoch 47 Batch 200 Loss 0.0248\n",
            "Epoch 47 Batch 300 Loss 0.0282\n",
            "Epoch 47 Batch 400 Loss 0.0339\n",
            "Epoch 47 Batch 500 Loss 0.0420\n",
            "Epoch 47 Batch 600 Loss 0.0414\n",
            "Epoch 47 Batch 700 Loss 0.0358\n",
            "Epoch 47 Batch 800 Loss 0.0542\n",
            "Epoch 47 Batch 900 Loss 0.0453\n",
            "Epoch 47 Batch 1000 Loss 0.0330\n",
            "Epoch 47 Batch 1100 Loss 0.0233\n",
            "Epoch 47 Batch 1200 Loss 0.0505\n",
            "Epoch 47 Loss 0.0389\n",
            "Time taken for 1 epoch 99.25330638885498 sec\n",
            "\n",
            "Epoch 48 Batch 0 Loss 0.0258\n",
            "Epoch 48 Batch 100 Loss 0.0342\n",
            "Epoch 48 Batch 200 Loss 0.0417\n",
            "Epoch 48 Batch 300 Loss 0.0292\n",
            "Epoch 48 Batch 400 Loss 0.0343\n",
            "Epoch 48 Batch 500 Loss 0.0275\n",
            "Epoch 48 Batch 600 Loss 0.0328\n",
            "Epoch 48 Batch 700 Loss 0.0271\n",
            "Epoch 48 Batch 800 Loss 0.0640\n",
            "Epoch 48 Batch 900 Loss 0.0415\n",
            "Epoch 48 Batch 1000 Loss 0.0537\n",
            "Epoch 48 Batch 1100 Loss 0.0576\n",
            "Epoch 48 Batch 1200 Loss 0.0708\n",
            "Epoch 48 Loss 0.0386\n",
            "Time taken for 1 epoch 99.98562121391296 sec\n",
            "\n",
            "Epoch 49 Batch 0 Loss 0.0253\n",
            "Epoch 49 Batch 100 Loss 0.0117\n",
            "Epoch 49 Batch 200 Loss 0.0464\n",
            "Epoch 49 Batch 300 Loss 0.0306\n",
            "Epoch 49 Batch 400 Loss 0.0199\n",
            "Epoch 49 Batch 500 Loss 0.0256\n",
            "Epoch 49 Batch 600 Loss 0.0367\n",
            "Epoch 49 Batch 700 Loss 0.0355\n",
            "Epoch 49 Batch 800 Loss 0.0363\n",
            "Epoch 49 Batch 900 Loss 0.0569\n",
            "Epoch 49 Batch 1000 Loss 0.0720\n",
            "Epoch 49 Batch 1100 Loss 0.0433\n",
            "Epoch 49 Batch 1200 Loss 0.0253\n",
            "Epoch 49 Loss 0.0390\n",
            "Time taken for 1 epoch 99.2878098487854 sec\n",
            "\n",
            "Epoch 50 Batch 0 Loss 0.0269\n",
            "Epoch 50 Batch 100 Loss 0.0302\n",
            "Epoch 50 Batch 200 Loss 0.0281\n",
            "Epoch 50 Batch 300 Loss 0.0301\n",
            "Epoch 50 Batch 400 Loss 0.0276\n",
            "Epoch 50 Batch 500 Loss 0.0334\n",
            "Epoch 50 Batch 600 Loss 0.0334\n",
            "Epoch 50 Batch 700 Loss 0.0480\n",
            "Epoch 50 Batch 800 Loss 0.0217\n",
            "Epoch 50 Batch 900 Loss 0.0265\n",
            "Epoch 50 Batch 1000 Loss 0.0331\n",
            "Epoch 50 Batch 1100 Loss 0.0389\n",
            "Epoch 50 Batch 1200 Loss 0.0751\n",
            "Epoch 50 Loss 0.0381\n",
            "Time taken for 1 epoch 100.23056697845459 sec\n",
            "\n"
          ]
        }
      ],
      "source": [
        "EPOCHS = 50\n",
        "\n",
        "for epoch in range(EPOCHS):\n",
        "  start = time.time()\n",
        "\n",
        "  enc_hidden = encoder.initialize_hidden_state()\n",
        "  total_loss = 0\n",
        "\n",
        "  for (batch, (inp, targ)) in enumerate(dataset.take(steps_per_epoch)):\n",
        "    batch_loss = train_step(inp, targ, enc_hidden)\n",
        "    total_loss += batch_loss\n",
        "\n",
        "    if batch % 100 == 0:\n",
        "      print('Epoch {} Batch {} Loss {:.4f}'.format(epoch + 1,\n",
        "                                                   batch,\n",
        "                                                   batch_loss.numpy()))\n",
        "  # saving (checkpoint) the model every 2 epochs\n",
        "  if (epoch + 1) % 2 == 0:\n",
        "    checkpoint.save(file_prefix = checkpoint_prefix)\n",
        "\n",
        "  print('Epoch {} Loss {:.4f}'.format(epoch + 1,\n",
        "                                      total_loss / steps_per_epoch))\n",
        "  print('Time taken for 1 epoch {} sec\\n'.format(time.time() - start))"
      ]
    },
    {
      "cell_type": "code",
      "execution_count": 29,
      "metadata": {
        "id": "EbQpyYs13jF_"
      },
      "outputs": [],
      "source": [
        "def evaluate(sentence):\n",
        "  attention_plot = np.zeros((max_length_targ, max_length_inp))\n",
        "\n",
        "  sentence = preprocess_sentence(sentence)\n",
        "\n",
        "  inputs = [inp_lang.word_index[i] for i in sentence.split(' ')]\n",
        "  inputs = tf.keras.preprocessing.sequence.pad_sequences([inputs],\n",
        "                                                         maxlen=max_length_inp,\n",
        "                                                         padding='post')\n",
        "  inputs = tf.convert_to_tensor(inputs)\n",
        "\n",
        "  result = ''\n",
        "\n",
        "  hidden = [tf.zeros((1, units))]\n",
        "  enc_out, enc_hidden = encoder(inputs, hidden)\n",
        "\n",
        "  dec_hidden = enc_hidden\n",
        "  dec_input = tf.expand_dims([targ_lang.word_index['<start>']], 0)\n",
        "\n",
        "  for t in range(max_length_targ):\n",
        "    predictions, dec_hidden, attention_weights = decoder(dec_input,\n",
        "                                                         dec_hidden,\n",
        "                                                         enc_out)\n",
        "\n",
        "    # storing the attention weights to plot later on\n",
        "    attention_weights = tf.reshape(attention_weights, (-1, ))\n",
        "    attention_plot[t] = attention_weights.numpy()\n",
        "\n",
        "    predicted_id = tf.argmax(predictions[0]).numpy()\n",
        "\n",
        "    result += targ_lang.index_word[predicted_id] + ' '\n",
        "\n",
        "    if targ_lang.index_word[predicted_id] == '<end>':\n",
        "      return result, sentence, attention_plot\n",
        "\n",
        "    # the predicted ID is fed back into the model\n",
        "    dec_input = tf.expand_dims([predicted_id], 0)\n",
        "\n",
        "  return result, sentence, attention_plot"
      ]
    },
    {
      "cell_type": "code",
      "execution_count": 30,
      "metadata": {
        "id": "Qjy26Fe8Bv5d"
      },
      "outputs": [],
      "source": [
        "# function for plotting the attention weights\n",
        "def plot_attention(attention, sentence, predicted_sentence):\n",
        "  fig = plt.figure(figsize=(10,10))\n",
        "  ax = fig.add_subplot(1, 1, 1)\n",
        "  ax.matshow(attention, cmap='viridis')\n",
        "\n",
        "  fontdict = {'fontsize': 14}\n",
        "\n",
        "  ax.set_xticklabels([''] + sentence, fontdict=fontdict, rotation=90)\n",
        "  ax.set_yticklabels([''] + predicted_sentence, fontdict=fontdict)\n",
        "\n",
        "  ax.xaxis.set_major_locator(ticker.MultipleLocator(1))\n",
        "  ax.yaxis.set_major_locator(ticker.MultipleLocator(1))\n",
        "\n",
        "  plt.show()"
      ]
    },
    {
      "cell_type": "code",
      "execution_count": 31,
      "metadata": {
        "id": "sl9zUHzg3jGI"
      },
      "outputs": [],
      "source": [
        "def translate(sentence):\n",
        "  result, sentence, attention_plot = evaluate(sentence)\n",
        "\n",
        "  print('Input: %s' % (sentence))\n",
        "  print('Predicted translation: {}'.format(result))\n",
        "\n",
        "  attention_plot = attention_plot[:len(result.split(' ')), :len(sentence.split(' '))]\n",
        "  plot_attention(attention_plot, sentence.split(' '), result.split(' '))"
      ]
    },
    {
      "cell_type": "code",
      "execution_count": 32,
      "metadata": {
        "colab": {
          "base_uri": "https://localhost:8080/"
        },
        "id": "UJpT9D5_OgP6",
        "outputId": "f517b40d-a7bc-4737-8c7f-ee0c2f2b2a7d"
      },
      "outputs": [
        {
          "output_type": "execute_result",
          "data": {
            "text/plain": [
              "<tensorflow.python.training.tracking.util.CheckpointLoadStatus at 0x7fe3727e4250>"
            ]
          },
          "metadata": {},
          "execution_count": 32
        }
      ],
      "source": [
        "# restoring the latest checkpoint in checkpoint_dir\n",
        "checkpoint.restore(tf.train.latest_checkpoint(checkpoint_dir))"
      ]
    },
    {
      "cell_type": "code",
      "execution_count": 33,
      "metadata": {
        "colab": {
          "base_uri": "https://localhost:8080/",
          "height": 676
        },
        "id": "WrAM0FDomq3E",
        "outputId": "868f6cc4-ff05-440b-fa43-ffb4dce92094"
      },
      "outputs": [
        {
          "output_type": "stream",
          "name": "stdout",
          "text": [
            "Input: <start> здесь хорошо . <end>\n",
            "Predicted translation: it is good here . <end> \n"
          ]
        },
        {
          "output_type": "display_data",
          "data": {
            "text/plain": [
              "<Figure size 720x720 with 1 Axes>"
            ],
            "image/png": "[encoded data removed]"
          },
          "metadata": {
            "needs_background": "light"
          }
        }
      ],
      "source": [
        "translate('Здесь хорошо.')"
      ]
    },
    {
      "cell_type": "code",
      "execution_count": 34,
      "metadata": {
        "colab": {
          "base_uri": "https://localhost:8080/",
          "height": 614
        },
        "id": "5bhFfwcIMX5i",
        "outputId": "9dffff44-ed0b-472a-814f-7cc58541bf66"
      },
      "outputs": [
        {
          "output_type": "stream",
          "name": "stdout",
          "text": [
            "Input: <start> я не смогу поехать . <end>\n",
            "Predicted translation: i can't go . <end> \n"
          ]
        },
        {
          "output_type": "display_data",
          "data": {
            "text/plain": [
              "<Figure size 720x720 with 1 Axes>"
            ],
            "image/png": "[encoded data removed]"
          },
          "metadata": {
            "needs_background": "light"
          }
        }
      ],
      "source": [
        "translate('Я не смогу поехать.')"
      ]
    },
    {
      "cell_type": "code",
      "execution_count": 35,
      "metadata": {
        "colab": {
          "base_uri": "https://localhost:8080/",
          "height": 676
        },
        "id": "zSx2iM36EZQZ",
        "outputId": "a20eccd5-790e-4d82-9406-c171ab0be24e"
      },
      "outputs": [
        {
          "output_type": "stream",
          "name": "stdout",
          "text": [
            "Input: <start> вы еще дома ? <end>\n",
            "Predicted translation: are you still at home ? <end> \n"
          ]
        },
        {
          "output_type": "display_data",
          "data": {
            "text/plain": [
              "<Figure size 720x720 with 1 Axes>"
            ],
            "image/png": "[encoded data removed]"
          },
          "metadata": {
            "needs_background": "light"
          }
        }
      ],
      "source": [
        "translate(u'Вы еще дома?')"
      ]
    },
    {
      "cell_type": "code",
      "execution_count": 36,
      "metadata": {
        "colab": {
          "base_uri": "https://localhost:8080/",
          "height": 676
        },
        "id": "A3LLCx3ZE0Ls",
        "outputId": "0967244a-97a9-4cc5-ec42-623c77d059aa"
      },
      "outputs": [
        {
          "output_type": "stream",
          "name": "stdout",
          "text": [
            "Input: <start> вы все еще дома ? <end>\n",
            "Predicted translation: are you still at home ? <end> \n"
          ]
        },
        {
          "output_type": "display_data",
          "data": {
            "text/plain": [
              "<Figure size 720x720 with 1 Axes>"
            ],
            "image/png": "[encoded data removed]"
          },
          "metadata": {
            "needs_background": "light"
          }
        }
      ],
      "source": [
        "translate(u'Вы все еще дома?')"
      ]
    },
    {
      "cell_type": "code",
      "execution_count": 37,
      "metadata": {
        "colab": {
          "base_uri": "https://localhost:8080/",
          "height": 690
        },
        "id": "DUQVLVqUE1YW",
        "outputId": "6737e04e-a9cf-432e-e467-88b52b6a8d5a"
      },
      "outputs": [
        {
          "output_type": "stream",
          "name": "stdout",
          "text": [
            "Input: <start> попробуй сделать это . <end>\n",
            "Predicted translation: try to do that . <end> \n"
          ]
        },
        {
          "output_type": "display_data",
          "data": {
            "text/plain": [
              "<Figure size 720x720 with 1 Axes>"
            ],
            "image/png": "[encoded data removed]"
          },
          "metadata": {
            "needs_background": "light"
          }
        }
      ],
      "source": [
        "translate(u'Попробуй сделать это.')"
      ]
    },
    {
      "cell_type": "code",
      "execution_count": 38,
      "metadata": {
        "colab": {
          "base_uri": "https://localhost:8080/",
          "height": 523
        },
        "id": "f09_hUFx9EJh",
        "outputId": "38985c03-947f-4491-be9f-dd14d5cc8668"
      },
      "outputs": [
        {
          "output_type": "stream",
          "name": "stdout",
          "text": [
            "Input: <start> я не люблю , когда идет снег . <end>\n",
            "Predicted translation: i don't like living . <end> \n"
          ]
        },
        {
          "output_type": "display_data",
          "data": {
            "text/plain": [
              "<Figure size 720x720 with 1 Axes>"
            ],
            "image/png": "[encoded data removed]"
          },
          "metadata": {
            "needs_background": "light"
          }
        }
      ],
      "source": [
        "translate(u'Я не люблю, когда идет снег.')"
      ]
    },
    {
      "cell_type": "code",
      "execution_count": 39,
      "metadata": {
        "colab": {
          "base_uri": "https://localhost:8080/",
          "height": 626
        },
        "id": "e7c5p8rmkHQG",
        "outputId": "d4fb07b7-0ed0-47e9-c267-0e04b65a6d50"
      },
      "outputs": [
        {
          "output_type": "stream",
          "name": "stdout",
          "text": [
            "Input: <start> я никогда такого не делаю . <end>\n",
            "Predicted translation: i never do that . <end> \n"
          ]
        },
        {
          "output_type": "display_data",
          "data": {
            "text/plain": [
              "<Figure size 720x720 with 1 Axes>"
            ],
            "image/png": "[encoded data removed]"
          },
          "metadata": {
            "needs_background": "light"
          }
        }
      ],
      "source": [
        "translate(u'Я никогда такого не делаю.')"
      ]
    }
  ],
  "metadata": {
    "accelerator": "GPU",
    "colab": {
      "collapsed_sections": [],
      "name": "HW-#10.2,ipynb",
      "provenance": [],
      "include_colab_link": true
    },
    "kernelspec": {
      "display_name": "Python 3",
      "language": "python",
      "name": "python3"
    },
    "language_info": {
      "codemirror_mode": {
        "name": "ipython",
        "version": 3
      },
      "file_extension": ".py",
      "mimetype": "text/x-python",
      "name": "python",
      "nbconvert_exporter": "python",
      "pygments_lexer": "ipython3",
      "version": "3.8.8"
    },
    "toc": {
      "base_numbering": 1,
      "nav_menu": {},
      "number_sections": false,
      "sideBar": true,
      "skip_h1_title": true,
      "title_cell": "Table of Contents",
      "title_sidebar": "Contents",
      "toc_cell": false,
      "toc_position": {},
      "toc_section_display": true,
      "toc_window_display": false
    },
    "varInspector": {
      "cols": {
        "lenName": 16,
        "lenType": 16,
        "lenVar": 40
      },
      "kernels_config": {
        "python": {
          "delete_cmd_postfix": "",
          "delete_cmd_prefix": "del ",
          "library": "var_list.py",
          "varRefreshCmd": "print(var_dic_list())"
        },
        "r": {
          "delete_cmd_postfix": ") ",
          "delete_cmd_prefix": "rm(",
          "library": "var_list.r",
          "varRefreshCmd": "cat(var_dic_list()) "
        }
      },
      "types_to_exclude": [
        "module",
        "function",
        "builtin_function_or_method",
        "instance",
        "_Feature"
      ],
      "window_display": false
    }
  },
  "nbformat": 4,
  "nbformat_minor": 0
}